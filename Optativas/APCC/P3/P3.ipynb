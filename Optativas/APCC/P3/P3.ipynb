{
 "cells": [
  {
   "cell_type": "markdown",
   "metadata": {},
   "source": [
    "## Ejercicio 1"
   ]
  },
  {
   "cell_type": "code",
   "execution_count": 1,
   "metadata": {},
   "outputs": [],
   "source": [
    "import cirq\n",
    "from cirq import Circuit, Simulator, LineQubit\n",
    "import matplotlib.pyplot as plt"
   ]
  },
  {
   "cell_type": "code",
   "execution_count": 2,
   "metadata": {},
   "outputs": [
    {
     "name": "stdout",
     "output_type": "stream",
     "text": [
      "0: ───H───M───\n"
     ]
    }
   ],
   "source": [
    "qubit = LineQubit(0)\n",
    "\n",
    "circuit = Circuit()\n",
    "circuit.append(cirq.H(qubit))\n",
    "circuit.append(cirq.measure(qubit))\n",
    "\n",
    "print(circuit)"
   ]
  },
  {
   "cell_type": "code",
   "execution_count": 3,
   "metadata": {},
   "outputs": [
    {
     "name": "stdout",
     "output_type": "stream",
     "text": [
      "Resultados:  0=1111010000011010011001110101010100110101000010001101001010000001011110110111100001100111000011010001\n"
     ]
    }
   ],
   "source": [
    "simulator = cirq.Simulator()\n",
    "result = simulator.run(circuit, repetitions=100)\n",
    "print(\"Resultados: \", result)"
   ]
  },
  {
   "cell_type": "code",
   "execution_count": 4,
   "metadata": {},
   "outputs": [
    {
     "data": {
      "text/plain": [
       "<AxesSubplot:title={'center':'Result State Histogram'}, xlabel='qubit state', ylabel='result count'>"
      ]
     },
     "execution_count": 4,
     "metadata": {},
     "output_type": "execute_result"
    },
    {
     "data": {
      "image/png": "[encoded data removed]",
      "text/plain": [
       "<Figure size 432x288 with 1 Axes>"
      ]
     },
     "metadata": {
      "needs_background": "light"
     },
     "output_type": "display_data"
    }
   ],
   "source": [
    "cirq.vis.plot_state_histogram(result, plt.subplot())"
   ]
  },
  {
   "cell_type": "markdown",
   "metadata": {},
   "source": [
    "En el histograma podemos ver como se reparte aleatoriamente la cantidad de datos en cada estado."
   ]
  },
  {
   "cell_type": "markdown",
   "metadata": {},
   "source": [
    "## Ejercicio 2"
   ]
  },
  {
   "cell_type": "code",
   "execution_count": 5,
   "metadata": {},
   "outputs": [],
   "source": [
    "import cirq\n",
    "from cirq import Circuit, Simulator, LineQubit\n",
    "import math"
   ]
  },
  {
   "cell_type": "markdown",
   "metadata": {},
   "source": [
    "#### QFT"
   ]
  },
  {
   "cell_type": "code",
   "execution_count": 6,
   "metadata": {},
   "outputs": [
    {
     "name": "stdout",
     "output_type": "stream",
     "text": [
      "0: ───X───@───────────────────────────────@──────────────────────@─────────H───×───\n",
      "          │                               │                      │             │\n",
      "1: ───────┼────────@──────────────────────┼────────@─────────H───@^0.159───×───┼───\n",
      "          │        │                      │        │                       │   │\n",
      "2: ───X───┼────────┼────────@─────────H───@^0.08───@^0.159─────────────────×───┼───\n",
      "          │        │        │                                                  │\n",
      "3: ───H───@^0.04───@^0.08───@^0.159────────────────────────────────────────────×───\n"
     ]
    }
   ],
   "source": [
    "q0, q1, q2, q3 = cirq.LineQubit.range(4)\n",
    "\n",
    "circuit = Circuit()\n",
    "circuit.append(cirq.X(q0))\n",
    "circuit.append(cirq.X(q2))\n",
    "\n",
    "circuit.append(cirq.H(q3))\n",
    "circuit.append(cirq.cphase(1/8)(q0, q3))\n",
    "circuit.append(cirq.cphase(1/4)(q1, q3))\n",
    "circuit.append(cirq.cphase(1/2)(q2, q3))\n",
    "\n",
    "circuit.append(cirq.H(q2))\n",
    "circuit.append(cirq.cphase(1/4)(q0, q2))\n",
    "circuit.append(cirq.cphase(1/2)(q1, q2))\n",
    "\n",
    "circuit.append(cirq.H(q1))\n",
    "circuit.append(cirq.cphase(1/2)(q0, q1))\n",
    "\n",
    "circuit.append(cirq.H(q0))\n",
    "circuit.append(cirq.SWAP(q1, q2))\n",
    "circuit.append(cirq.SWAP(q0, q3))\n",
    "\n",
    "print(circuit)"
   ]
  },
  {
   "cell_type": "code",
   "execution_count": 7,
   "metadata": {},
   "outputs": [
    {
     "name": "stdout",
     "output_type": "stream",
     "text": [
      "                                                                               ┌──┐\n",
      "0: ───X───@───────────────────────────────@──────────────────────@─────────H────×─────×───H───@─────────────────────────@──────────────────────────────────@─────────────M───\n",
      "          │                               │                      │              │     │       │                         │                                  │             │\n",
      "1: ───────┼────────@──────────────────────┼────────@─────────H───@^0.159───×────┼×────┼───────@^-0.159───H───@──────────┼────────────────────────@─────────┼─────────────M───\n",
      "          │        │                      │        │                       │    ││    │                      │          │                        │         │             │\n",
      "2: ───X───┼────────┼────────@─────────H───@^0.08───@^0.159─────────────────×────┼×────┼──────────────────────@^-0.159───@^-0.08───H───@──────────┼─────────┼─────────────M───\n",
      "          │        │        │                                                   │     │                                               │          │         │             │\n",
      "3: ───H───@^0.04───@^0.08───@^0.159─────────────────────────────────────────────×─────×───────────────────────────────────────────────@^-0.159───@^-0.08───@^-0.04───H───M───\n",
      "                                                                               └──┘\n"
     ]
    }
   ],
   "source": [
    "# QFT inverso para comprobar que funciona\n",
    "circuit.append(cirq.SWAP(q0, q3))\n",
    "circuit.append(cirq.SWAP(q1, q2))\n",
    "circuit.append(cirq.H(q0))\n",
    "\n",
    "circuit.append(cirq.cphase(-1/2)(q0, q1))\n",
    "circuit.append(cirq.H(q1))\n",
    "\n",
    "circuit.append(cirq.cphase(-1/2)(q1, q2))\n",
    "circuit.append(cirq.cphase(-1/4)(q0, q2))\n",
    "circuit.append(cirq.H(q2))\n",
    "\n",
    "circuit.append(cirq.cphase(-1/2)(q2, q3))\n",
    "circuit.append(cirq.cphase(-1/4)(q1, q3))\n",
    "circuit.append(cirq.cphase(-1/8)(q0, q3))\n",
    "circuit.append(cirq.H(q3))\n",
    "\n",
    "circuit.append(cirq.measure(q0, q1, q2, q3))\n",
    "\n",
    "print(circuit)"
   ]
  },
  {
   "cell_type": "code",
   "execution_count": 8,
   "metadata": {},
   "outputs": [
    {
     "name": "stdout",
     "output_type": "stream",
     "text": [
      "Resultados:  measurements: 0,1,2,3=1010\n",
      "output vector: |1010⟩\n"
     ]
    }
   ],
   "source": [
    "simulator = cirq.Simulator()\n",
    "result = simulator.simulate(circuit)\n",
    "print(\"Resultados: \", result)"
   ]
  },
  {
   "cell_type": "markdown",
   "metadata": {},
   "source": [
    "Para demostrar que funciona, se puede probar con una secuencia de bits (q0 y q2 en este caso). Si la entrada de la QFT y la salida de la QFT inversa son iguales, entonces la QFT funciona. En este caso podemos decir que el circuito está funcionando."
   ]
  },
  {
   "cell_type": "markdown",
   "metadata": {},
   "source": [
    "#### AQFT"
   ]
  },
  {
   "cell_type": "code",
   "execution_count": 9,
   "metadata": {},
   "outputs": [
    {
     "name": "stdout",
     "output_type": "stream",
     "text": [
      "                        ┌───────┐             ┌───────┐\n",
      "0: ───X───H───@──────────@──────────────────────────────────────────────\n",
      "              │          │\n",
      "1: ───────────@^0.159────┼─────H────@──────────@────────────────────────\n",
      "                         │          │          │\n",
      "2: ──────────────────────@^0.08─────@^0.159────┼─────H────@─────────────\n",
      "                                               │          │\n",
      "3: ───X────────────────────────────────────────@^0.08─────@^0.159───H───\n",
      "                        └───────┘             └───────┘\n"
     ]
    }
   ],
   "source": [
    "q0, q1, q2, q3 = cirq.LineQubit.range(4)\n",
    "\n",
    "circuit = Circuit()\n",
    "\n",
    "circuit.append(cirq.X(q0))\n",
    "circuit.append(cirq.X(q3))\n",
    "\n",
    "circuit.append(cirq.H(q0))\n",
    "circuit.append(cirq.cphase(1/2)(q0, q1))\n",
    "circuit.append(cirq.cphase(1/4)(q0, q2))\n",
    "\n",
    "circuit.append(cirq.H(q1))\n",
    "circuit.append(cirq.cphase(1/2)(q1, q2))\n",
    "circuit.append(cirq.cphase(1/4)(q1, q3))\n",
    "\n",
    "circuit.append(cirq.H(q2))\n",
    "circuit.append(cirq.cphase(1/2)(q2, q3))\n",
    "\n",
    "circuit.append(cirq.H(q3))\n",
    "\n",
    "print(circuit)\n"
   ]
  },
  {
   "cell_type": "code",
   "execution_count": 10,
   "metadata": {},
   "outputs": [
    {
     "name": "stdout",
     "output_type": "stream",
     "text": [
      "                        ┌───────┐             ┌───────┐                                ┌────────┐              ┌────────┐\n",
      "0: ───X───H───@──────────@───────────────────────────────────────────────────────────────────────────────────────@──────────@──────────H───M───\n",
      "              │          │                                                                                       │          │              │\n",
      "1: ───────────@^0.159────┼─────H────@──────────@─────────────────────────────────────────@──────────@───────────H┼──────────@^-0.159───────M───\n",
      "                         │          │          │                                         │          │            │                         │\n",
      "2: ──────────────────────@^0.08─────@^0.159────┼─────H────@─────────────────@───────────H┼──────────@^-0.159─────@^-0.08───────────────────M───\n",
      "                                               │          │                 │            │                                                 │\n",
      "3: ───X────────────────────────────────────────@^0.08─────@^0.159───H───H───@^-0.159─────@^-0.08───────────────────────────────────────────M───\n",
      "                        └───────┘             └───────┘                                └────────┘              └────────┘\n"
     ]
    }
   ],
   "source": [
    "# AQFT inverso para comprobar que funciona\n",
    "circuit.append(cirq.H(q3))\n",
    "\n",
    "circuit.append(cirq.cphase(-1/2)(q2, q3))\n",
    "circuit.append(cirq.H(q2))\n",
    "\n",
    "circuit.append(cirq.cphase(-1/4)(q1, q3))\n",
    "circuit.append(cirq.cphase(-1/2)(q1, q2))\n",
    "circuit.append(cirq.H(q1))\n",
    "\n",
    "circuit.append(cirq.cphase(-1/4)(q0, q2))\n",
    "circuit.append(cirq.cphase(-1/2)(q0, q1))\n",
    "circuit.append(cirq.H(q0))\n",
    "\n",
    "circuit.append(cirq.measure(q0, q1, q2, q3))\n",
    "\n",
    "print(circuit)"
   ]
  },
  {
   "cell_type": "code",
   "execution_count": 11,
   "metadata": {},
   "outputs": [
    {
     "name": "stdout",
     "output_type": "stream",
     "text": [
      "Resultados:  measurements: 0,1,2,3=1001\n",
      "output vector: |1001⟩\n"
     ]
    }
   ],
   "source": [
    "simulator = cirq.Simulator()\n",
    "result = simulator.simulate(circuit)\n",
    "print(\"Resultados: \", result)"
   ]
  },
  {
   "cell_type": "markdown",
   "metadata": {},
   "source": [
    "Al igual que con la QFT, si la entrada y la salida de la AQFT son iguales, entonces la AQFT funciona."
   ]
  },
  {
   "cell_type": "markdown",
   "metadata": {},
   "source": [
    "## Ejercicio 3"
   ]
  },
  {
   "cell_type": "markdown",
   "metadata": {},
   "source": [
    "#### QFT"
   ]
  },
  {
   "cell_type": "code",
   "execution_count": 20,
   "metadata": {},
   "outputs": [],
   "source": [
    "q0, q1, q2, q3, q4, q5, q6, q7 = cirq.LineQubit.range(8)\n",
    "\n",
    "# QFT\n",
    "circuit = Circuit()\n",
    "circuit.append(cirq.X(q0))\n",
    "circuit.append(cirq.X(q7))\n",
    "\n",
    "circuit.append(cirq.H(q0))\n",
    "circuit.append(cirq.cphase(1/2)(q0, q1))\n",
    "circuit.append(cirq.cphase(1/4)(q0, q2))\n",
    "circuit.append(cirq.cphase(1/8)(q0, q3))\n",
    "\n",
    "circuit.append(cirq.H(q1))\n",
    "circuit.append(cirq.cphase(1/2)(q1, q2))\n",
    "circuit.append(cirq.cphase(1/4)(q1, q3))\n",
    "\n",
    "circuit.append(cirq.H(q2))\n",
    "circuit.append(cirq.cphase(1/2)(q2, q3))\n",
    "\n",
    "circuit.append(cirq.H(q3))"
   ]
  },
  {
   "cell_type": "code",
   "execution_count": 21,
   "metadata": {},
   "outputs": [],
   "source": [
    "# ADDER\n",
    "circuit.append(cirq.CZ(q0, q4))\n",
    "circuit.append(cirq.CZ(q0, q5)**0.5)\n",
    "circuit.append(cirq.CZ(q0, q6)**0.25)\n",
    "circuit.append(cirq.CZ(q0, q7)**0.125)\n",
    "\n",
    "circuit.append(cirq.CZ(q1, q5))\n",
    "circuit.append(cirq.CZ(q1, q6)**0.5)\n",
    "circuit.append(cirq.CZ(q1, q7)**0.25)\n",
    "\n",
    "circuit.append(cirq.CZ(q2, q6))\n",
    "circuit.append(cirq.CZ(q2, q7)**0.5)\n",
    "\n",
    "circuit.append(cirq.CZ(q3, q7))"
   ]
  },
  {
   "cell_type": "code",
   "execution_count": 22,
   "metadata": {},
   "outputs": [
    {
     "name": "stdout",
     "output_type": "stream",
     "text": [
      "                        ┌───────┐   ┌─────────────┐   ┌────────┐   ┌────────────┐   ┌────────┐   ┌────────────┐   ┌───────┐                              ┌────────┐   ┌───────────────┐   ┌────────┐\n",
      "0: ───X───H───@──────────@───────────@────────────────────────@────────────@──────────@───────────@────────────────────────────────────────────────────────────────────────────@────────────@──────────@──────────H───M───\n",
      "              │          │           │                        │            │          │           │                                                                            │            │          │              │\n",
      "1: ───────────@^0.159────┼─────H─────┼─────@───────────@──────┼────────────┼──────────┼─────@─────┼──────@─────────@───────────────────────────────────────@───────────@───────┼───────────H┼──────────@^-0.159───────M───\n",
      "                         │           │     │           │      │            │          │     │     │      │         │                                       │           │       │            │                         │\n",
      "2: ──────────────────────@^0.08──────┼─────@^0.159─────┼─────H┼─────@──────┼──────────┼─────┼─────┼──────┼─────────┼─────@────@───────────────@───────────H┼───────────@^-0.159┼────────────@^-0.08───────────────────M───\n",
      "                                     │                 │      │     │      │          │     │     │      │         │     │    │               │            │                   │                                      │\n",
      "3: ──────────────────────────────────@^0.04────────────@^0.08─┼─────@^0.159┼─────────H┼─────┼─────┼──────┼─────────┼─────┼────┼───────@───H───@^-0.159─────@^-0.08─────────────@^-0.04────────────────────────────────M───\n",
      "                                                              │            │          │     │     │      │         │     │    │       │\n",
      "4: ───────────────────────────────────────────────────────────@────────────┼──────────┼─────┼─────┼──────┼─────────┼─────┼────┼───────┼───────────────────────────────────────────────────────────────────────────────────\n",
      "                                                                           │          │     │     │      │         │     │    │       │\n",
      "5: ────────────────────────────────────────────────────────────────────────@^0.5──────┼─────@─────┼──────┼─────────┼─────┼────┼───────┼───────────────────────────────────────────────────────────────────────────────────\n",
      "                                                                                      │           │      │         │     │    │       │\n",
      "6: ───────────────────────────────────────────────────────────────────────────────────@^0.25──────┼──────@^0.5─────┼─────@────┼───────┼───────────────────────────────────────────────────────────────────────────────────\n",
      "                                                                                                  │                │          │       │\n",
      "7: ───X───────────────────────────────────────────────────────────────────────────────────────────@^(1/8)──────────@^0.25─────@^0.5───@───────────────────────────────────────────────────────────────────────────────────\n",
      "                        └───────┘   └─────────────┘   └────────┘   └────────────┘   └────────┘   └────────────┘   └───────┘                              └────────┘   └───────────────┘   └────────┘\n"
     ]
    }
   ],
   "source": [
    "# QFT inverso\n",
    "circuit.append(cirq.H(q3))\n",
    "\n",
    "circuit.append(cirq.cphase(-1/2)(q2, q3))\n",
    "circuit.append(cirq.H(q2))\n",
    "\n",
    "circuit.append(cirq.cphase(-1/4)(q1, q3))\n",
    "circuit.append(cirq.cphase(-1/2)(q1, q2))\n",
    "circuit.append(cirq.H(q1))\n",
    "\n",
    "circuit.append(cirq.cphase(-1/8)(q0, q3))\n",
    "circuit.append(cirq.cphase(-1/4)(q0, q2))\n",
    "circuit.append(cirq.cphase(-1/2)(q0, q1))\n",
    "circuit.append(cirq.H(q0))\n",
    "\n",
    "circuit.append(cirq.measure(q0, q1, q2, q3))\n",
    "\n",
    "print(circuit)"
   ]
  },
  {
   "cell_type": "code",
   "execution_count": 23,
   "metadata": {},
   "outputs": [
    {
     "name": "stdout",
     "output_type": "stream",
     "text": [
      "Resultados:  measurements: 0,1,2,3=1001\n",
      "output vector: (-0.028-1j)|10010001⟩\n"
     ]
    }
   ],
   "source": [
    "simulator = cirq.Simulator()\n",
    "result = simulator.simulate(circuit)\n",
    "print(\"Resultados: \", result)"
   ]
  },
  {
   "cell_type": "markdown",
   "metadata": {},
   "source": [
    "Como podemos observar en el vector de salida el sumador de Draper con QFT funciona porque en el operando de entrada A se ha sumado el valor del operando B mientras que B se mantiene intacto."
   ]
  },
  {
   "cell_type": "markdown",
   "metadata": {},
   "source": [
    "#### AQFT"
   ]
  },
  {
   "cell_type": "code",
   "execution_count": 28,
   "metadata": {},
   "outputs": [],
   "source": [
    "# AQFT\n",
    "q0, q1, q2, q3, q4, q5, q6, q7 = cirq.LineQubit.range(8)\n",
    "\n",
    "circuit = Circuit()\n",
    "\n",
    "circuit.append(cirq.X(q0))\n",
    "circuit.append(cirq.X(q1))\n",
    "circuit.append(cirq.X(q7))\n",
    "\n",
    "circuit.append(cirq.H(q0))\n",
    "circuit.append(cirq.cphase(1/2)(q0, q1))\n",
    "circuit.append(cirq.cphase(1/4)(q0, q2))\n",
    "\n",
    "circuit.append(cirq.H(q1))\n",
    "circuit.append(cirq.cphase(1/2)(q1, q2))\n",
    "circuit.append(cirq.cphase(1/4)(q1, q3))\n",
    "\n",
    "circuit.append(cirq.H(q2))\n",
    "circuit.append(cirq.cphase(1/2)(q2, q3))\n",
    "\n",
    "circuit.append(cirq.H(q3))"
   ]
  },
  {
   "cell_type": "code",
   "execution_count": 29,
   "metadata": {},
   "outputs": [],
   "source": [
    "# ADDER\n",
    "circuit.append(cirq.CZ(q0, q4))\n",
    "circuit.append(cirq.CZ(q0, q5)**0.5)\n",
    "circuit.append(cirq.CZ(q0, q6)**0.25)\n",
    "circuit.append(cirq.CZ(q0, q7)**0.125)\n",
    "\n",
    "circuit.append(cirq.CZ(q1, q5))\n",
    "circuit.append(cirq.CZ(q1, q6)**0.5)\n",
    "circuit.append(cirq.CZ(q1, q7)**0.25)\n",
    "\n",
    "circuit.append(cirq.CZ(q2, q6))\n",
    "circuit.append(cirq.CZ(q2, q7)**0.5)\n",
    "\n",
    "circuit.append(cirq.CZ(q3, q7))"
   ]
  },
  {
   "cell_type": "code",
   "execution_count": 30,
   "metadata": {},
   "outputs": [
    {
     "name": "stdout",
     "output_type": "stream",
     "text": [
      "                        ┌───────┐   ┌────────┐   ┌────────────┐   ┌──────────────┐   ┌─────────────┐   ┌───────┐                              ┌────────┐              ┌────────┐\n",
      "0: ───X───H───@──────────@──────────────────@────────────@────────────────@────────────@────────────────────────────────────────────────────────────────────────────────@──────────@──────────H───M───\n",
      "              │          │                  │            │                │            │                                                                                │          │              │\n",
      "1: ───X───────@^0.159────┼─────H─────@──────┼─────@──────┼────────────────┼─────@──────┼──────@─────────@───────────────────────────────────────@──────────@───────────H┼──────────@^-0.159───────M───\n",
      "                         │           │      │     │      │                │     │      │      │         │                                       │          │            │                         │\n",
      "2: ──────────────────────@^0.08──────@^0.159┼─────┼─────H┼─────────@──────┼─────┼──────┼──────┼─────────┼─────@────@───────────────@───────────H┼──────────@^-0.159─────@^-0.08───────────────────M───\n",
      "                                            │     │      │         │      │     │      │      │         │     │    │               │            │                                                 │\n",
      "3: ─────────────────────────────────────────┼─────@^0.08─┼─────────@^0.159┼─────┼─────H┼──────┼─────────┼─────┼────┼───────@───H───@^-0.159─────@^-0.08───────────────────────────────────────────M───\n",
      "                                            │            │                │     │      │      │         │     │    │       │\n",
      "4: ─────────────────────────────────────────@────────────┼────────────────┼─────┼──────┼──────┼─────────┼─────┼────┼───────┼──────────────────────────────────────────────────────────────────────────\n",
      "                                                         │                │     │      │      │         │     │    │       │\n",
      "5: ──────────────────────────────────────────────────────@^0.5────────────┼─────@──────┼──────┼─────────┼─────┼────┼───────┼──────────────────────────────────────────────────────────────────────────\n",
      "                                                                          │            │      │         │     │    │       │\n",
      "6: ───────────────────────────────────────────────────────────────────────@^0.25───────┼──────@^0.5─────┼─────@────┼───────┼──────────────────────────────────────────────────────────────────────────\n",
      "                                                                                       │                │          │       │\n",
      "7: ───X────────────────────────────────────────────────────────────────────────────────@^(1/8)──────────@^0.25─────@^0.5───@──────────────────────────────────────────────────────────────────────────\n",
      "                        └───────┘   └────────┘   └────────────┘   └──────────────┘   └─────────────┘   └───────┘                              └────────┘              └────────┘\n"
     ]
    }
   ],
   "source": [
    "# AQFT inverso para comprobar que funciona\n",
    "circuit.append(cirq.H(q3))\n",
    "\n",
    "circuit.append(cirq.cphase(-1/2)(q2, q3))\n",
    "circuit.append(cirq.H(q2))\n",
    "\n",
    "circuit.append(cirq.cphase(-1/4)(q1, q3))\n",
    "circuit.append(cirq.cphase(-1/2)(q1, q2))\n",
    "circuit.append(cirq.H(q1))\n",
    "\n",
    "circuit.append(cirq.cphase(-1/4)(q0, q2))\n",
    "circuit.append(cirq.cphase(-1/2)(q0, q1))\n",
    "circuit.append(cirq.H(q0))\n",
    "\n",
    "circuit.append(cirq.measure(q0, q1, q2, q3))\n",
    "\n",
    "print(circuit)"
   ]
  },
  {
   "cell_type": "code",
   "execution_count": 31,
   "metadata": {},
   "outputs": [
    {
     "name": "stdout",
     "output_type": "stream",
     "text": [
      "Resultados:  measurements: 0,1,2,3=1101\n",
      "output vector: (0.281-0.96j)|11010001⟩\n"
     ]
    }
   ],
   "source": [
    "simulator = cirq.Simulator()\n",
    "result = simulator.simulate(circuit)\n",
    "print(\"Resultados: \", result)"
   ]
  },
  {
   "cell_type": "markdown",
   "metadata": {},
   "source": [
    "Al igual que con QFT como podemos observar en el vector de salida el sumador de Draper con AQFT funciona porque en el operando de entrada A se ha sumado el valor del operando B mientras que B se mantiene intacto."
   ]
  },
  {
   "cell_type": "markdown",
   "metadata": {},
   "source": [
    "## Ejercicio 4"
   ]
  },
  {
   "cell_type": "markdown",
   "metadata": {},
   "source": [
    "### IBM"
   ]
  },
  {
   "cell_type": "code",
   "execution_count": 29,
   "metadata": {},
   "outputs": [],
   "source": [
    "# Cargamos las credenciales de IBMQ\n",
    "from qiskit import IBMQ\n",
    "\n",
    "with open('qiskit.txt', 'r') as file:\n",
    "\ttoken = file.read()\n",
    "\n",
    "# IBMQ.save_account(token, hub='ibm-q-education', group='uni-complutense-2', project='architecture-pro', overwrite=True)\n",
    "IBMQ.save_account(token, overwrite=True)"
   ]
  },
  {
   "cell_type": "code",
   "execution_count": 89,
   "metadata": {},
   "outputs": [],
   "source": [
    "from qiskit import QuantumCircuit, Aer\n",
    "from qiskit import execute\n",
    "from qiskit.visualization import plot_histogram\n",
    "from math import pi"
   ]
  },
  {
   "cell_type": "markdown",
   "metadata": {},
   "source": [
    "#### QFT"
   ]
  },
  {
   "cell_type": "code",
   "execution_count": 86,
   "metadata": {},
   "outputs": [
    {
     "data": {
      "text/plain": [
       "<qiskit.circuit.instructionset.InstructionSet at 0x7f6e81d90740>"
      ]
     },
     "execution_count": 86,
     "metadata": {},
     "output_type": "execute_result"
    }
   ],
   "source": [
    "# QFT\n",
    "circuit = QuantumCircuit(8, 8)\n",
    "\n",
    "circuit.x(0)\n",
    "circuit.x(7)\n",
    "\n",
    "circuit.h(0)\n",
    "circuit.crz(1/2, 0, 1)\n",
    "circuit.crz(1/4, 0, 2)\n",
    "circuit.crz(1/8, 0, 3)\n",
    "\n",
    "circuit.h(1)\n",
    "circuit.crz(1/2, 1, 2)\n",
    "circuit.crz(1/4, 1, 3)\n",
    "\n",
    "circuit.h(2)\n",
    "circuit.crz(1/2, 2, 3)\n",
    "\n",
    "circuit.h(3)\n",
    "\n",
    "# Adder\n",
    "circuit.cz(0, 4),\n",
    "circuit.crz(1/2, 0, 5)\n",
    "circuit.crz(1/4, 0, 6)\n",
    "circuit.crz(1/8, 0, 7)\n",
    "\n",
    "circuit.cz(1, 5)\n",
    "circuit.crz(0.5, 1, 6)\n",
    "circuit.crz(1/4, 1, 7)\n",
    "\n",
    "circuit.cz(2, 6)\n",
    "circuit.crz(1/2, 2, 7)\n",
    "\n",
    "circuit.cz(3, 7)\n",
    "\n",
    "# QFT invertida\n",
    "circuit.h(3)\n",
    "\n",
    "circuit.crz(-1/2, 2, 3)\n",
    "circuit.h(2)\n",
    "\n",
    "circuit.crz(-1/4, 1, 3)\n",
    "circuit.crz(-1/2, 1, 2)\n",
    "circuit.h(1)\n",
    "\n",
    "circuit.crz(-1/8, 0, 3)\n",
    "circuit.crz(-1/4, 0, 2)\n",
    "circuit.crz(-1/2, 0, 1)\n",
    "circuit.h(0)"
   ]
  },
  {
   "cell_type": "code",
   "execution_count": 87,
   "metadata": {},
   "outputs": [],
   "source": [
    "circuit.measure([0,1,2,3,4,5,6,7], [0,1,2,3,4,5,6,7])\n",
    "circuit.draw()\n",
    "\n",
    "simulator = Aer.get_backend('qasm_simulator')\n",
    "job = execute(circuit, simulator, shots=1000)\n",
    "counts = job.result().get_counts(circuit)"
   ]
  },
  {
   "cell_type": "code",
   "execution_count": 88,
   "metadata": {},
   "outputs": [
    {
     "data": {
      "image/png": "[encoded data removed]",
      "text/plain": [
       "<Figure size 504x360 with 1 Axes>"
      ]
     },
     "execution_count": 88,
     "metadata": {},
     "output_type": "execute_result"
    }
   ],
   "source": [
    "plot_histogram(counts)"
   ]
  },
  {
   "cell_type": "markdown",
   "metadata": {},
   "source": [
    "Al igual que con Cirq podemos ver en el histograma que la salida de la QFT es la suma de los operadores A y B en A.\n",
    "\n",
    "La simulación no se ha podido hacer en un backend real porque no tenemos disponibles maquinas con tantos qubits como el circuito."
   ]
  },
  {
   "cell_type": "markdown",
   "metadata": {},
   "source": [
    "#### AQFT"
   ]
  },
  {
   "cell_type": "code",
   "execution_count": 124,
   "metadata": {},
   "outputs": [
    {
     "data": {
      "text/plain": [
       "<qiskit.circuit.instructionset.InstructionSet at 0x7f6e817e9a80>"
      ]
     },
     "execution_count": 124,
     "metadata": {},
     "output_type": "execute_result"
    }
   ],
   "source": [
    "# AQFT\n",
    "circuit = QuantumCircuit(8, 8)\n",
    "\n",
    "circuit.x(0)\n",
    "circuit.x(5)\n",
    "circuit.x(6)\n",
    "circuit.x(7)\n",
    "\n",
    "circuit.h(0)\n",
    "circuit.crz(1/2, 0, 1)\n",
    "circuit.crz(1/4, 0, 2)\n",
    "\n",
    "circuit.h(1)\n",
    "circuit.crz(1/2, 1, 2)\n",
    "circuit.crz(1/4, 1, 3)\n",
    "\n",
    "circuit.h(2)\n",
    "circuit.crz(1/2, 2, 3)\n",
    "\n",
    "circuit.h(3)\n",
    "\n",
    "# Adder\n",
    "circuit.cz(0, 4),\n",
    "circuit.crz(1/2, 0, 5)\n",
    "circuit.crz(1/4, 0, 6)\n",
    "circuit.crz(1/8, 0, 7)\n",
    "\n",
    "circuit.cz(1, 5)\n",
    "circuit.crz(0.5, 1, 6)\n",
    "circuit.crz(1/4, 1, 7)\n",
    "\n",
    "circuit.cz(2, 6)\n",
    "circuit.crz(1/2, 2, 7)\n",
    "\n",
    "circuit.cz(3, 7)\n",
    "\n",
    "# AQFT invertida\n",
    "circuit.h(3)\n",
    "\n",
    "circuit.crz(-1/2, 2, 3)\n",
    "circuit.h(2)\n",
    "\n",
    "circuit.crz(-1/4, 1, 3)\n",
    "circuit.crz(-1/2, 1, 2)\n",
    "circuit.h(1)\n",
    "\n",
    "circuit.crz(-1/4, 0, 2)\n",
    "circuit.crz(-1/2, 0, 1)\n",
    "circuit.h(0)"
   ]
  },
  {
   "cell_type": "code",
   "execution_count": 125,
   "metadata": {},
   "outputs": [],
   "source": [
    "circuit.measure([0,1,2,3,4,5,6,7], [0,1,2,3,4,5,6,7])\n",
    "circuit.draw()\n",
    "\n",
    "simulator = Aer.get_backend('qasm_simulator')\n",
    "job = execute(circuit, simulator, shots=1000)\n",
    "counts = job.result().get_counts(circuit)"
   ]
  },
  {
   "cell_type": "code",
   "execution_count": 126,
   "metadata": {},
   "outputs": [
    {
     "data": {
      "image/png": "[encoded data removed]",
      "text/plain": [
       "<Figure size 504x360 with 1 Axes>"
      ]
     },
     "execution_count": 126,
     "metadata": {},
     "output_type": "execute_result"
    }
   ],
   "source": [
    "plot_histogram(counts)"
   ]
  },
  {
   "cell_type": "markdown",
   "metadata": {},
   "source": [
    "Al igual que con Cirq podemos ver en el histograma que la salida de la AQFT es la suma de los operadores A y B en A.\n",
    "\n",
    "La simulación no se ha podido hacer en un backend real porque no tenemos disponibles maquinas con tantos qubits como el circuito."
   ]
  },
  {
   "cell_type": "markdown",
   "metadata": {},
   "source": [
    "### IonQ"
   ]
  },
  {
   "cell_type": "code",
   "execution_count": 10,
   "metadata": {},
   "outputs": [],
   "source": [
    "from braket.circuits import Circuit\n",
    "from braket.aws import AwsDevice\n",
    "import matplotlib.pyplot as plt"
   ]
  },
  {
   "cell_type": "markdown",
   "metadata": {},
   "source": [
    "#### QFT"
   ]
  },
  {
   "cell_type": "code",
   "execution_count": 11,
   "metadata": {},
   "outputs": [],
   "source": [
    "def controlled_z(t,c):\n",
    "    circ = Circuit()\n",
    "    circ.h(t).cnot(c,t).h(t)\n",
    "    return circ\n",
    "\n",
    "def controlled_rotation(t,c,theta):\n",
    "    circ = Circuit().rz(t,theta/2).cnot(c,t).rz(t,-theta/2).cnot(c,t)\n",
    "    return circ\n",
    "\n",
    "circuit = (Circuit() \n",
    "\t.x(0)\n",
    "\t.x(1)\n",
    "\t.x(2)\n",
    "\t.x(7)\n",
    "\n",
    "\t.h(0)\n",
    "\t.add_circuit(controlled_rotation(0, 1, 0.5))\n",
    "\t.add_circuit(controlled_rotation(0, 2, 0.25))\n",
    "\t.add_circuit(controlled_rotation(0, 3, 1/8))\n",
    "\t.h(1)\n",
    "\t.add_circuit(controlled_rotation(1, 2, 0.5))\n",
    "\t.add_circuit(controlled_rotation(1, 3, 0.25))\n",
    "\t.h(2)\n",
    "\t.add_circuit(controlled_rotation(2, 3, 0.5))\n",
    "\t.h(3)\n",
    "\n",
    "\t.add_circuit(controlled_z(0, 4))\n",
    "\t.add_circuit(controlled_rotation(0, 5, 1/2))\n",
    "\t.add_circuit(controlled_rotation(0, 6, 1/4))\n",
    "\t.add_circuit(controlled_rotation(0, 7, 1/8))\n",
    "\t.add_circuit(controlled_z(1, 5))\n",
    "\t.add_circuit(controlled_rotation(1, 6, 1/2))\n",
    "\t.add_circuit(controlled_rotation(1, 7, 1/4))\n",
    "\t.add_circuit(controlled_z(2, 6))\n",
    "\t.add_circuit(controlled_rotation(2, 7, 1/2))\n",
    "\t.add_circuit(controlled_z(3, 7))\n",
    "\n",
    "\t.h(3)\n",
    "\t.add_circuit(controlled_rotation(2, 3, -1/2))\n",
    "\t.h(2)\n",
    "\t.add_circuit(controlled_rotation(1, 3, -1/4))\n",
    "\t.add_circuit(controlled_rotation(1, 2, -1/2))\n",
    "\t.h(1)\n",
    "\t.add_circuit(controlled_rotation(0, 3, -1/8))\n",
    "\t.add_circuit(controlled_rotation(0, 2, -1/4))\n",
    "\t.add_circuit(controlled_rotation(0, 1, -1/2))\n",
    "\t.h(0)\n",
    ")"
   ]
  },
  {
   "cell_type": "code",
   "execution_count": 13,
   "metadata": {},
   "outputs": [
    {
     "name": "stdout",
     "output_type": "stream",
     "text": [
      "T  : |0|1|   2    |3|    4    |5|    6    |    7     |    8     |9|    10    |    11     |    12     |    13     |    14    |     15     |16|   17   |    18     |   19    |20 |    21     |22 |    23    |24|    25    |    26     |    27     |    28     |     29      |    30    |31|    32    |   33    |34|   35    |36|37|38|   39   |40|41 |   42    |43|    44     |    45    |    46    |    47    |48 |   49    |50|   51    |52|   53   |54|55|\n",
      "                                                                                                                                                                                                                                                                                                                                                                                                                                                           \n",
      "q0 : -X-H-Rz(0.25)-X-Rz(-0.25)-X-Rz(0.125)-X----------Rz(-0.125)-X-Rz(0.0625)-X-----------Rz(-0.0625)-X-----------H---------------------X-H--Rz(0.25)-----------X-Rz(-0.25)---X-Rz(0.125)---X---Rz(-0.125)-X--Rz(0.0625)-X-----------Rz(-0.0625)-X-----------Rz(-0.0625)---------------------------------------------------------------------------------------------------X-Rz(0.0625)----------X-Rz(-0.125)---X-Rz(0.125)-X--Rz(-0.25)-X--Rz(0.25)-X--H--\n",
      "                   |           |           |                     |            |                       |                                 |                       |             |             |              |             |                       |                                                                                                                         |                     |              |           |            |           |     \n",
      "q1 : -X------------C-----------C-H---------|-Rz(0.25)------------|-X----------|-Rz(-0.25)-X-----------|-Rz(0.125)-X----------Rz(-0.125)-|-X--H------------------|-------------|-X-----------|-H-Rz(0.25)---|--X----------|-Rz(-0.25)-X-----------|-Rz(0.125)-X-------------Rz(-0.125)-X--Rz(-0.125)-----------------------------------------------X-Rz(0.125)-X--Rz(-0.25)-|-X----------Rz(0.25)-|-X----------H-|-----------|------------C-----------C-----\n",
      "                                           |                     | |          |           |           |           |                     | |                     |             | |           |              |  |          |           |           |           |                        |                                                           |           |            | |                   | |            |           |                              \n",
      "q2 : -X------------------------------------C---------------------C-C----------|-----------C-----------|-H---------|-Rz(0.25)------------|-|--X--------Rz(-0.25)-|-X---------H-|-|-----------|--------------|--|----------|-----------|-----------|-X---------|-----------H-Rz(0.25)---|--X----------Rz(-0.25)-X--Rz(-0.25)-------X--Rz(0.25)-X--H-|-----------|------------|-C-------------------|-C------------C-----------C------------------------------\n",
      "                                                                              |                       |           |                     | |  |                  | |           | |           |              |  |          |           |           | |         |                        |  |                    |                  |           |    |           |            |                     |                                                         \n",
      "q3 : -------------------------------------------------------------------------C-----------------------C-----------C---------------------|-C--C------------------|-C---------H-|-|---------H-|--------------|--|----------|-----------|-----------|-|---------|------------------------|--|--------------------|--X---------H--H--C-----------C----C-----------C------------C---------------------C---------------------------------------------------------\n",
      "                                                                                                                                        |                       |             | |           |              |  |          |           |           | |         |                        |  |                    |  |                                                                                                                                         \n",
      "q4 : -----------------------------------------------------------------------------------------------------------------------------------C-----------------------|-------------|-|-----------|--------------|--|----------|-----------|-----------|-|---------|------------------------|--|--------------------|--|-----------------------------------------------------------------------------------------------------------------------------------------\n",
      "                                                                                                                                                                |             | |           |              |  |          |           |           | |         |                        |  |                    |  |                                                                                                                                         \n",
      "q5 : -----------------------------------------------------------------------------------------------------------------------------------------------------------C-------------C-C-----------|--------------|--|----------|-----------|-----------|-|---------|------------------------|--|--------------------|--|-----------------------------------------------------------------------------------------------------------------------------------------\n",
      "                                                                                                                                                                                            |              |  |          |           |           | |         |                        |  |                    |  |                                                                                                                                         \n",
      "q6 : ---------------------------------------------------------------------------------------------------------------------------------------------------------------------------------------C--------------C--C----------|-----------C-----------|-C---------|------------------------|--|--------------------|--|-----------------------------------------------------------------------------------------------------------------------------------------\n",
      "                                                                                                                                                                                                                         |                       |           |                        |  |                    |  |                                                                                                                                         \n",
      "q7 : -X------------------------------------------------------------------------------------------------------------------------------------------------------------------------------------------------------------------C-----------------------C-----------C------------------------C--C--------------------C--C-----------------------------------------------------------------------------------------------------------------------------------------\n",
      "\n",
      "T  : |0|1|   2    |3|    4    |5|    6    |    7     |    8     |9|    10    |    11     |    12     |    13     |    14    |     15     |16|   17   |    18     |   19    |20 |    21     |22 |    23    |24|    25    |    26     |    27     |    28     |     29      |    30    |31|    32    |   33    |34|   35    |36|37|38|   39   |40|41 |   42    |43|    44     |    45    |    46    |    47    |48 |   49    |50|   51    |52|   53   |54|55|\n"
     ]
    }
   ],
   "source": [
    "device = AwsDevice(\"arn:aws:braket:::device/qpu/ionq/ionQdevice\")\n",
    "s3_folder = (\"amazon-braket-f085dc433a90\", \"apcc2022/markelal/IONQ\")\n",
    "\n",
    "print(circuit)\n",
    "\n",
    "print(\"Resultados: \", device.run(circuit, s3_folder).result().measurement_counts)"
   ]
  },
  {
   "cell_type": "code",
   "execution_count": null,
   "metadata": {},
   "outputs": [],
   "source": [
    "plt.bar(result.measurement_counts.keys(), result.measurement_counts.values())"
   ]
  },
  {
   "cell_type": "markdown",
   "metadata": {},
   "source": [
    "#### AQFT"
   ]
  },
  {
   "cell_type": "code",
   "execution_count": 14,
   "metadata": {},
   "outputs": [],
   "source": [
    "def controlled_z(t,c):\n",
    "  circ = Circuit()\n",
    "  circ.h(t).cnot(c,t).h(t)\n",
    "  return circ\n",
    "\n",
    "def controlled_rotation(t,c,theta):\n",
    "  circ = Circuit().rz(t,theta/2).cnot(c,t).rz(t,-theta/2).cnot(c,t)\n",
    "  return circ\n",
    "\n",
    "draper = (Circuit()\n",
    "  .x(0)\n",
    "  .x(1)\n",
    "  .x(2)\n",
    "  .x(7)\n",
    "\n",
    "  .h(0)\n",
    "  .add_circuit(controlled_rotation(0,1,1/2))\n",
    "  .add_circuit(controlled_rotation(0,2,1/4))\n",
    "  .h(1)\n",
    "  .add_circuit(controlled_rotation(1,2,1/2))\n",
    "  .add_circuit(controlled_rotation(1,3,1/4))\n",
    "  .h(2)\n",
    "  .add_circuit(controlled_rotation(2,3,1/2))\n",
    "  .h(3)\n",
    "\n",
    "  .add_circuit(controlled_z(0,4))\n",
    "  .add_circuit(controlled_rotation(0,5,1/2))\n",
    "  .add_circuit(controlled_rotation(0,6,1/4))\n",
    "  .add_circuit(controlled_rotation(0,7,1/8))\n",
    "  .add_circuit(controlled_z(1,5))\n",
    "  .add_circuit(controlled_rotation(1,6,1/2))\n",
    "  .add_circuit(controlled_rotation(1,7,1/4))\n",
    "  .add_circuit(controlled_z(2,6))\n",
    "  .add_circuit(controlled_rotation(2,7,1/2))\n",
    "  .add_circuit(controlled_z(3,7))\n",
    "\n",
    "  .h(3)\n",
    "  .add_circuit(controlled_rotation(2,3,-1/2))\n",
    "  .h(2)\n",
    "  .add_circuit(controlled_rotation(1,3,-1/4))\n",
    "  .add_circuit(controlled_rotation(1,2,-1/2))\n",
    "  .h(1)\n",
    "  .add_circuit(controlled_rotation(0,2,-1/4))\n",
    "  .add_circuit(controlled_rotation(0,1,-1/2))\n",
    "  .h(0)\n",
    ")"
   ]
  },
  {
   "cell_type": "code",
   "execution_count": 15,
   "metadata": {},
   "outputs": [
    {
     "name": "stdout",
     "output_type": "stream",
     "text": [
      "T  : |0|1|   2    |3|    4    |5|    6    |    7     |    8     |9|    10    |    11     |    12     |    13     |    14    |     15     |16|   17   |    18     |   19    |20 |    21     |22 |    23    |24|    25    |    26     |    27     |    28     |     29      |    30    |31|    32    |   33    |34|   35    |36|37|38|   39   |40|41 |   42    |43|    44     |    45    |    46    |    47    |48 |   49    |50|   51    |52|   53   |54|55|\n",
      "                                                                                                                                                                                                                                                                                                                                                                                                                                                           \n",
      "q0 : -X-H-Rz(0.25)-X-Rz(-0.25)-X-Rz(0.125)-X----------Rz(-0.125)-X-Rz(0.0625)-X-----------Rz(-0.0625)-X-----------H---------------------X-H--Rz(0.25)-----------X-Rz(-0.25)---X-Rz(0.125)---X---Rz(-0.125)-X--Rz(0.0625)-X-----------Rz(-0.0625)-X-----------Rz(-0.0625)---------------------------------------------------------------------------------------------------X-Rz(0.0625)----------X-Rz(-0.125)---X-Rz(0.125)-X--Rz(-0.25)-X--Rz(0.25)-X--H--\n",
      "                   |           |           |                     |            |                       |                                 |                       |             |             |              |             |                       |                                                                                                                         |                     |              |           |            |           |     \n",
      "q1 : -X------------C-----------C-H---------|-Rz(0.25)------------|-X----------|-Rz(-0.25)-X-----------|-Rz(0.125)-X----------Rz(-0.125)-|-X--H------------------|-------------|-X-----------|-H-Rz(0.25)---|--X----------|-Rz(-0.25)-X-----------|-Rz(0.125)-X-------------Rz(-0.125)-X--Rz(-0.125)-----------------------------------------------X-Rz(0.125)-X--Rz(-0.25)-|-X----------Rz(0.25)-|-X----------H-|-----------|------------C-----------C-----\n",
      "                                           |                     | |          |           |           |           |                     | |                     |             | |           |              |  |          |           |           |           |                        |                                                           |           |            | |                   | |            |           |                              \n",
      "q2 : -X------------------------------------C---------------------C-C----------|-----------C-----------|-H---------|-Rz(0.25)------------|-|--X--------Rz(-0.25)-|-X---------H-|-|-----------|--------------|--|----------|-----------|-----------|-X---------|-----------H-Rz(0.25)---|--X----------Rz(-0.25)-X--Rz(-0.25)-------X--Rz(0.25)-X--H-|-----------|------------|-C-------------------|-C------------C-----------C------------------------------\n",
      "                                                                              |                       |           |                     | |  |                  | |           | |           |              |  |          |           |           | |         |                        |  |                    |                  |           |    |           |            |                     |                                                         \n",
      "q3 : -------------------------------------------------------------------------C-----------------------C-----------C---------------------|-C--C------------------|-C---------H-|-|---------H-|--------------|--|----------|-----------|-----------|-|---------|------------------------|--|--------------------|--X---------H--H--C-----------C----C-----------C------------C---------------------C---------------------------------------------------------\n",
      "                                                                                                                                        |                       |             | |           |              |  |          |           |           | |         |                        |  |                    |  |                                                                                                                                         \n",
      "q4 : -----------------------------------------------------------------------------------------------------------------------------------C-----------------------|-------------|-|-----------|--------------|--|----------|-----------|-----------|-|---------|------------------------|--|--------------------|--|-----------------------------------------------------------------------------------------------------------------------------------------\n",
      "                                                                                                                                                                |             | |           |              |  |          |           |           | |         |                        |  |                    |  |                                                                                                                                         \n",
      "q5 : -----------------------------------------------------------------------------------------------------------------------------------------------------------C-------------C-C-----------|--------------|--|----------|-----------|-----------|-|---------|------------------------|--|--------------------|--|-----------------------------------------------------------------------------------------------------------------------------------------\n",
      "                                                                                                                                                                                            |              |  |          |           |           | |         |                        |  |                    |  |                                                                                                                                         \n",
      "q6 : ---------------------------------------------------------------------------------------------------------------------------------------------------------------------------------------C--------------C--C----------|-----------C-----------|-C---------|------------------------|--|--------------------|--|-----------------------------------------------------------------------------------------------------------------------------------------\n",
      "                                                                                                                                                                                                                         |                       |           |                        |  |                    |  |                                                                                                                                         \n",
      "q7 : -X------------------------------------------------------------------------------------------------------------------------------------------------------------------------------------------------------------------C-----------------------C-----------C------------------------C--C--------------------C--C-----------------------------------------------------------------------------------------------------------------------------------------\n",
      "\n",
      "T  : |0|1|   2    |3|    4    |5|    6    |    7     |    8     |9|    10    |    11     |    12     |    13     |    14    |     15     |16|   17   |    18     |   19    |20 |    21     |22 |    23    |24|    25    |    26     |    27     |    28     |     29      |    30    |31|    32    |   33    |34|   35    |36|37|38|   39   |40|41 |   42    |43|    44     |    45    |    46    |    47    |48 |   49    |50|   51    |52|   53   |54|55|\n"
     ]
    }
   ],
   "source": [
    "device = AwsDevice(\"arn:aws:braket:::device/qpu/ionq/ionQdevice\")\n",
    "s3_folder = (\"amazon-braket-f085dc433a90\", \"apcc2022/markelal/IONQ\")\n",
    "\n",
    "print(circuit)\n",
    "\n",
    "print(\"Resultados: \", device.run(circuit, s3_folder).result().measurement_counts)"
   ]
  },
  {
   "cell_type": "code",
   "execution_count": null,
   "metadata": {},
   "outputs": [],
   "source": [
    "plt.bar(result.measurement_counts.keys(), result.measurement_counts.values())"
   ]
  },
  {
   "cell_type": "markdown",
   "metadata": {},
   "source": [
    "El resultado no se muestra porque despues de 233 minutos la ejecución no termina a pesar de haber hecho la ejecución dentro de la franja horaria de IonQ :("
   ]
  },
  {
   "cell_type": "markdown",
   "metadata": {},
   "source": [
    "### Rigeti"
   ]
  },
  {
   "cell_type": "code",
   "execution_count": 16,
   "metadata": {},
   "outputs": [],
   "source": [
    "from braket.circuits import Circuit\n",
    "from braket.aws import AwsDevice\n",
    "import matplotlib.pyplot as plt"
   ]
  },
  {
   "cell_type": "markdown",
   "metadata": {},
   "source": [
    "#### QFT"
   ]
  },
  {
   "cell_type": "code",
   "execution_count": 17,
   "metadata": {},
   "outputs": [],
   "source": [
    "circuit = (Circuit()\n",
    "\t.h(0)\n",
    "\t.cphaseshift(1,0,1/2)\n",
    "\t.cphaseshift(2,0,1/4)\n",
    "\t.cphaseshift(3,0,1/8)\n",
    "\t.h(1)\n",
    "\t.cphaseshift(2,1,1/2)\n",
    "\t.cphaseshift(3,1,1/4)\n",
    "\t.h(2)\n",
    "\t.cphaseshift(3,2,1/2)\n",
    "\t.h(3)\n",
    "\n",
    "\t.cz(4,0)\n",
    "\t.cphaseshift(5,0,1/2)\n",
    "\t.cphaseshift(6,0,1/4)\n",
    "\t.cphaseshift(7,0,1/8)\n",
    "\t.cz(5,1)\n",
    "\t.cphaseshift(6,1,1/2)\n",
    "\t.cphaseshift(7,1,1/4)\n",
    "\t.cz(6,2)\n",
    "\t.cphaseshift(7,2,1/2)\n",
    "\t.cz(7,3)\n",
    "\n",
    "\t.h(3)\n",
    "\t.cphaseshift(3,2,-1/2)\n",
    "\t.h(2)\n",
    "\t.cphaseshift(3,1,-1/4)\n",
    "\t.cphaseshift(2,1,-1/2)\n",
    "\t.h(1)\n",
    "\t.cphaseshift(3,0,-1/8)\n",
    "\t.cphaseshift(2,0,-1/4)\n",
    "\t.cphaseshift(1,0,-1/2)\n",
    "\t.h(0)\n",
    ")"
   ]
  },
  {
   "cell_type": "code",
   "execution_count": 18,
   "metadata": {},
   "outputs": [
    {
     "name": "stdout",
     "output_type": "stream",
     "text": [
      "T  : |0|    1     |      2      |           3           |       4       |          5          |       6       |           7           |      8      |    9     |10|11|    12     |      13      |           14            |      15      |    16     |17|\n",
      "                                                                                                                                                                                                                                                         \n",
      "q0 : -H-PHASE(0.5)-PHASE(0.25)---PHASE(0.125)--------------------------Z------------PHASE(0.5)---PHASE(0.25)---PHASE(0.125)----------------------------------------------------------------------------------PHASE(-0.125)---PHASE(-0.25)-PHASE(-0.5)-H--\n",
      "        |          |             |                                     |            |            |             |                                                                                             |               |            |              \n",
      "q1 : ---C----------|-----------H-|------------PHASE(0.5)-PHASE(0.25)---|------------|------------|-----------Z-|------------PHASE(0.5)-PHASE(0.25)----------------------------------PHASE(-0.25)-PHASE(-0.5)-|-------------H-|------------C--------------\n",
      "                   |             |            |          |             |            |            |           | |            |          |                                            |            |           |               |                           \n",
      "q2 : --------------C-------------|------------C----------|-----------H-|-PHASE(0.5)-|------------|-----------|-|------------|----------|-----------Z-PHASE(0.5)-------PHASE(-0.5)-H-|------------C-----------|---------------C---------------------------\n",
      "                                 |                       |             | |          |            |           | |            |          |           | |                |             |                        |                                           \n",
      "q3 : ----------------------------C-----------------------C-------------|-C----------|----------H-|-----------|-|------------|----------|-----------|-|----------Z--H--C-------------C------------------------C-------------------------------------------\n",
      "                                                                       |            |            |           | |            |          |           | |          |                                                                                        \n",
      "q4 : ------------------------------------------------------------------C------------|------------|-----------|-|------------|----------|-----------|-|----------|----------------------------------------------------------------------------------------\n",
      "                                                                                    |            |           | |            |          |           | |          |                                                                                        \n",
      "q5 : -------------------------------------------------------------------------------C------------|-----------C-|------------|----------|-----------|-|----------|----------------------------------------------------------------------------------------\n",
      "                                                                                                 |             |            |          |           | |          |                                                                                        \n",
      "q6 : --------------------------------------------------------------------------------------------C-------------|------------C----------|-----------C-|----------|----------------------------------------------------------------------------------------\n",
      "                                                                                                               |                       |             |          |                                                                                        \n",
      "q7 : ----------------------------------------------------------------------------------------------------------C-----------------------C-------------C----------C----------------------------------------------------------------------------------------\n",
      "\n",
      "T  : |0|    1     |      2      |           3           |       4       |          5          |       6       |           7           |      8      |    9     |10|11|    12     |      13      |           14            |      15      |    16     |17|\n"
     ]
    }
   ],
   "source": [
    "device = AwsDevice(\"arn:aws:braket:us-west-1::device/qpu/rigetti/Aspen-M-1\")\n",
    "s3_folder = (\"amazon-braket-f085dc433a90\", \"apcc2022/markelal/RIGETTI\")\n",
    "\n",
    "print(circuit)\n",
    "\n",
    "print(\"Resultados: \", device.run(circuit, s3_folder).result().measurement_counts)"
   ]
  },
  {
   "cell_type": "code",
   "execution_count": null,
   "metadata": {},
   "outputs": [],
   "source": [
    "plt.bar(result.measurement_counts.keys(), result.measurement_counts.values())"
   ]
  },
  {
   "cell_type": "markdown",
   "metadata": {},
   "source": [
    "#### AQFT"
   ]
  },
  {
   "cell_type": "code",
   "execution_count": 19,
   "metadata": {},
   "outputs": [],
   "source": [
    "circuit = (Circuit()\n",
    "\n",
    "\t.h(0)\n",
    "\t.cphaseshift(1,0,1/2)\n",
    "\t.cphaseshift(2,0,1/4)\n",
    "\t.h(1)\n",
    "\t.cphaseshift(2,1,1/2)\n",
    "\t.cphaseshift(3,1,1/4)\n",
    "\t.h(2)\n",
    "\t.cphaseshift(3,2,1/2)\n",
    "\t.h(3)\n",
    "\n",
    "\t.cz(4,0)\n",
    "\t.cphaseshift(5,0,1/2)\n",
    "\t.cphaseshift(6,0,1/4)\n",
    "\t.cphaseshift(7,0,1/8)\n",
    "\t.cz(5,1)\n",
    "\t.cphaseshift(6,1,1/2)\n",
    "\t.cphaseshift(7,1,1/4)\n",
    "\t.cz(6,2)\n",
    "\t.cphaseshift(7,2,1/2)\n",
    "\t.cz(7,3)\n",
    "\n",
    "\t.h(3)\n",
    "\t.cphaseshift(3,2,-1/2)\n",
    "\t.h(2)\n",
    "\t.cphaseshift(3,1,-1/4)\n",
    "\t.cphaseshift(2,1,-1/2)\n",
    "\t.h(1)\n",
    "\t.cphaseshift(2,0,-1/4)\n",
    "\t.cphaseshift(1,0,-1/2)\n",
    "\t.h(0)\n",
    ")"
   ]
  },
  {
   "cell_type": "code",
   "execution_count": 20,
   "metadata": {},
   "outputs": [
    {
     "name": "stdout",
     "output_type": "stream",
     "text": [
      "T  : |0|    1     |      2      |     3      |           4            |           5            |            6            |      7      |    8     |9|10|    11     |      12      |    13     |      14      |    15     |16|\n",
      "                                                                                                                                                                                                                             \n",
      "q0 : -H-PHASE(0.5)-PHASE(0.25)--------------Z---------------PHASE(0.5)------------PHASE(0.25)-----PHASE(0.125)-----------------------------------------------------------------------------------PHASE(-0.25)-PHASE(-0.5)-H--\n",
      "        |          |                        |               |                     |               |                                                                                              |            |              \n",
      "q1 : ---C----------|-----------H-PHASE(0.5)-|-PHASE(0.25)---|---------------------|-----------Z---|------------PHASE(0.5)-PHASE(0.25)---------------------------------PHASE(-0.25)-PHASE(-0.5)-H-|------------C--------------\n",
      "                   |             |          | |             |                     |           |   |            |          |                                           |            |             |                           \n",
      "q2 : --------------C-------------C----------|-|-----------H-|----------PHASE(0.5)-|-----------|---|------------|----------|-----------Z-PHASE(0.5)------PHASE(-0.5)-H-|------------C-------------C---------------------------\n",
      "                                            | |             |          |          |           |   |            |          |           | |               |             |                                                      \n",
      "q3 : ---------------------------------------|-C-------------|----------C----------|-----------|-H-|------------|----------|-----------|-|----------Z-H--C-------------C------------------------------------------------------\n",
      "                                            |               |                     |           |   |            |          |           | |          |                                                                         \n",
      "q4 : ---------------------------------------C---------------|---------------------|-----------|---|------------|----------|-----------|-|----------|-------------------------------------------------------------------------\n",
      "                                                            |                     |           |   |            |          |           | |          |                                                                         \n",
      "q5 : -------------------------------------------------------C---------------------|-----------C---|------------|----------|-----------|-|----------|-------------------------------------------------------------------------\n",
      "                                                                                  |               |            |          |           | |          |                                                                         \n",
      "q6 : -----------------------------------------------------------------------------C---------------|------------C----------|-----------C-|----------|-------------------------------------------------------------------------\n",
      "                                                                                                  |                       |             |          |                                                                         \n",
      "q7 : ---------------------------------------------------------------------------------------------C-----------------------C-------------C----------C-------------------------------------------------------------------------\n",
      "\n",
      "T  : |0|    1     |      2      |     3      |           4            |           5            |            6            |      7      |    8     |9|10|    11     |      12      |    13     |      14      |    15     |16|\n"
     ]
    }
   ],
   "source": [
    "device = AwsDevice(\"arn:aws:braket:us-west-1::device/qpu/rigetti/Aspen-M-1\")\n",
    "s3_folder = (\"amazon-braket-f085dc433a90\", \"apcc2022/markelal/RIGETTI\")\n",
    "\n",
    "print(circuit)\n",
    "\n",
    "print(\"Resultados: \", device.run(circuit, s3_folder).result().measurement_counts)"
   ]
  },
  {
   "cell_type": "code",
   "execution_count": null,
   "metadata": {},
   "outputs": [],
   "source": [
    "plt.bar(result.measurement_counts.keys(), result.measurement_counts.values())"
   ]
  },
  {
   "cell_type": "markdown",
   "metadata": {},
   "source": [
    "Al igual que con IonQ el resultado no se muestra porque despues de 167 minutos la ejecución no termina a pesar de haber hecho la ejecución dentro de la franja horaria de Riggeti :("
   ]
  }
 ],
 "metadata": {
  "interpreter": {
   "hash": "916dbcbb3f70747c44a77c7bcd40155683ae19c65e1c03b4aa3499c5328201f1"
  },
  "kernelspec": {
   "display_name": "Python 3.9.7 64-bit",
   "language": "python",
   "name": "python3"
  },
  "language_info": {
   "codemirror_mode": {
    "name": "ipython",
    "version": 3
   },
   "file_extension": ".py",
   "mimetype": "text/x-python",
   "name": "python",
   "nbconvert_exporter": "python",
   "pygments_lexer": "ipython3",
   "version": "3.9.7"
  },
  "orig_nbformat": 4
 },
 "nbformat": 4,
 "nbformat_minor": 2
}
