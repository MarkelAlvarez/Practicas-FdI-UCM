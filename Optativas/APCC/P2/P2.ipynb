{
 "cells": [
  {
   "cell_type": "markdown",
   "metadata": {},
   "source": [
    "## Ejercicio 1"
   ]
  },
  {
   "cell_type": "code",
   "execution_count": 1,
   "metadata": {},
   "outputs": [],
   "source": [
    "import matplotlib.pyplot as plt\n",
    "%matplotlib inline\n",
    "\n",
    "from braket.circuits import Circuit\n",
    "from braket.devices import LocalSimulator"
   ]
  },
  {
   "cell_type": "code",
   "execution_count": 5,
   "metadata": {},
   "outputs": [
    {
     "name": "stdout",
     "output_type": "stream",
     "text": [
      "T  : |0|\n",
      "        \n",
      "q0 : -H-\n",
      "\n",
      "T  : |0|\n",
      "Simulator \"default\":  Counter({'1': 512, '0': 488})\n",
      "Simulator \"braket_dm\":  Counter({'1': 513, '0': 487})\n"
     ]
    },
    {
     "name": "stderr",
     "output_type": "stream",
     "text": [
      "/home/markel/.local/lib/python3.9/site-packages/braket/default_simulator/simulator.py:156: UserWarning: You are running a noise-free circuit on the density matrix simulator. Consider running this circuit on the state vector simulator: LocalSimulator(\"default\") for a better user experience.\n",
      "  warnings.warn(\n"
     ]
    }
   ],
   "source": [
    "circuit = Circuit().h(0)\n",
    "print(circuit)\n",
    "\n",
    "device1 = LocalSimulator()\n",
    "result1 = device1.run(circuit, shots=1000).result()\n",
    "counts1 = result1.measurement_counts\n",
    "\n",
    "device2 = LocalSimulator(backend=\"braket_dm\")\n",
    "result2 = device2.run(circuit, shots=1000).result()\n",
    "counts2 = result2.measurement_counts\n",
    "\n",
    "print(\"Simulator \\\"default\\\": \", counts1)\n",
    "print(\"Simulator \\\"braket_dm\\\": \", counts2)"
   ]
  },
  {
   "cell_type": "code",
   "execution_count": 6,
   "metadata": {},
   "outputs": [
    {
     "data": {
      "text/plain": [
       "Text(0, 0.5, 'Counts')"
      ]
     },
     "execution_count": 6,
     "metadata": {},
     "output_type": "execute_result"
    },
    {
     "data": {
      "image/png": "[encoded data removed]",
      "text/plain": [
       "<Figure size 432x288 with 1 Axes>"
      ]
     },
     "metadata": {
      "needs_background": "light"
     },
     "output_type": "display_data"
    }
   ],
   "source": [
    "plt.bar(counts1.keys(), counts1.values())\n",
    "plt.title(\"Default backend\")\n",
    "plt.xlabel('Bitstrings')\n",
    "plt.ylabel('Counts')"
   ]
  },
  {
   "cell_type": "code",
   "execution_count": 7,
   "metadata": {},
   "outputs": [
    {
     "data": {
      "text/plain": [
       "Text(0, 0.5, 'Counts')"
      ]
     },
     "execution_count": 7,
     "metadata": {},
     "output_type": "execute_result"
    },
    {
     "data": {
      "image/png": "[encoded data removed]",
      "text/plain": [
       "<Figure size 432x288 with 1 Axes>"
      ]
     },
     "metadata": {
      "needs_background": "light"
     },
     "output_type": "display_data"
    }
   ],
   "source": [
    "plt.bar(counts2.keys(), counts2.values())\n",
    "plt.title(\"Braket_dm backend\")\n",
    "plt.xlabel('Bitstrings')\n",
    "plt.ylabel('Counts')"
   ]
  },
  {
   "cell_type": "markdown",
   "metadata": {},
   "source": [
    "Ambos _backends_ obtienen un resultado similar a la hora de producir númenros aleatorios. Para el primer set de resultados se ha utilizado un simulador vectorial de estado local mientras que para el resundo par de resultados se ha utilizado un simulador de matriz de densidad local que suele ser menos potente que el anterior y con la diferencia de que suele usarse para crear prototipos rapidos en circuitos pequeños con ruido."
   ]
  },
  {
   "cell_type": "markdown",
   "metadata": {},
   "source": [
    "## Ejercicio 2"
   ]
  },
  {
   "cell_type": "code",
   "execution_count": 17,
   "metadata": {},
   "outputs": [],
   "source": [
    "from braket.circuits import Circuit\n",
    "from braket.devices import LocalSimulator\n",
    "import matplotlib.pyplot as plt\n",
    "from math import pi"
   ]
  },
  {
   "cell_type": "markdown",
   "metadata": {},
   "source": [
    "##### Versión 1 con rotaciones"
   ]
  },
  {
   "cell_type": "code",
   "execution_count": 30,
   "metadata": {},
   "outputs": [
    {
     "name": "stdout",
     "output_type": "stream",
     "text": [
      "T  : |    0    |1|2|3|4|    5     |\n",
      "                                   \n",
      "q0 : -Rx(0.785)---X-H-Z-Rx(-0.785)-\n",
      "                  |   |            \n",
      "q1 : -H---------X-C-X-|------------\n",
      "                |   | |            \n",
      "q2 : -----------C---C-C------------\n",
      "\n",
      "T  : |    0    |1|2|3|4|    5     |\n"
     ]
    }
   ],
   "source": [
    "device = LocalSimulator()\n",
    "\n",
    "circuit = Circuit()\n",
    "\n",
    "circuit.h(1)\n",
    "circuit.cnot(2, 1)\n",
    "# add a barrier\n",
    "circuit.rx(0, pi/4)\n",
    "# add a barrier\n",
    "circuit.cnot(1,0)\n",
    "circuit.h(0)\n",
    "# add a barrier\n",
    "circuit.cnot(2,1)\n",
    "circuit.cz(2,0)\n",
    "# add a barrier\n",
    "circuit.rx(0, -pi/4)\n",
    "\n",
    "print(circuit)"
   ]
  },
  {
   "cell_type": "code",
   "execution_count": 34,
   "metadata": {},
   "outputs": [
    {
     "name": "stdout",
     "output_type": "stream",
     "text": [
      "Simulator \"default\":  Counter({'010': 385, '100': 367, '110': 126, '000': 122})\n",
      "Simulator \"braket_dm\":  Counter({'100': 393, '010': 372, '110': 120, '000': 115})\n"
     ]
    },
    {
     "name": "stderr",
     "output_type": "stream",
     "text": [
      "/home/markel/.local/lib/python3.9/site-packages/braket/default_simulator/simulator.py:156: UserWarning: You are running a noise-free circuit on the density matrix simulator. Consider running this circuit on the state vector simulator: LocalSimulator(\"default\") for a better user experience.\n",
      "  warnings.warn(\n"
     ]
    }
   ],
   "source": [
    "device1 = LocalSimulator()\n",
    "result1 = device1.run(circuit, shots=1000).result()\n",
    "counts1 = result1.measurement_counts\n",
    "\n",
    "device2 = LocalSimulator(backend=\"braket_dm\")\n",
    "result2 = device2.run(circuit, shots=1000).result()\n",
    "counts2 = result2.measurement_counts\n",
    "\n",
    "print(\"Simulator \\\"default\\\": \", counts1)\n",
    "print(\"Simulator \\\"braket_dm\\\": \", counts2)"
   ]
  },
  {
   "cell_type": "code",
   "execution_count": 35,
   "metadata": {},
   "outputs": [
    {
     "data": {
      "text/plain": [
       "Text(0, 0.5, 'Counts')"
      ]
     },
     "execution_count": 35,
     "metadata": {},
     "output_type": "execute_result"
    },
    {
     "data": {
      "image/png": "[encoded data removed]",
      "text/plain": [
       "<Figure size 432x288 with 1 Axes>"
      ]
     },
     "metadata": {
      "needs_background": "light"
     },
     "output_type": "display_data"
    }
   ],
   "source": [
    "plt.bar(counts1.keys(), counts1.values())\n",
    "plt.title(\"Default backend\")\n",
    "plt.xlabel('Bitstrings')\n",
    "plt.ylabel('Counts')"
   ]
  },
  {
   "cell_type": "code",
   "execution_count": 36,
   "metadata": {},
   "outputs": [
    {
     "data": {
      "text/plain": [
       "Text(0, 0.5, 'Counts')"
      ]
     },
     "execution_count": 36,
     "metadata": {},
     "output_type": "execute_result"
    },
    {
     "data": {
      "image/png": "[encoded data removed]",
      "text/plain": [
       "<Figure size 432x288 with 1 Axes>"
      ]
     },
     "metadata": {
      "needs_background": "light"
     },
     "output_type": "display_data"
    }
   ],
   "source": [
    "plt.bar(counts2.keys(), counts2.values())\n",
    "plt.title(\"Braket_dm backend\")\n",
    "plt.xlabel('Bitstrings')\n",
    "plt.ylabel('Counts')"
   ]
  },
  {
   "cell_type": "markdown",
   "metadata": {},
   "source": [
    "Como podemos ver ambos _backends_ en la versión 1 los valores '000' y '110' son muy parecidos al igual que los valores '100' y '010' lo que indica que la teleportación está funcionando."
   ]
  },
  {
   "cell_type": "markdown",
   "metadata": {},
   "source": [
    "##### Versión 2 sin rotaciones"
   ]
  },
  {
   "cell_type": "code",
   "execution_count": 37,
   "metadata": {},
   "outputs": [
    {
     "name": "stdout",
     "output_type": "stream",
     "text": [
      "T  : |0|1|2|3|4|\n",
      "                \n",
      "q0 : -----C-H-C-\n",
      "          |   | \n",
      "q1 : -H-C-X-C-|-\n",
      "        |   | | \n",
      "q2 : ---X---X-Z-\n",
      "\n",
      "T  : |0|1|2|3|4|\n"
     ]
    }
   ],
   "source": [
    "circuit2 = Circuit()\n",
    "\n",
    "circuit2.h(1)\n",
    "circuit2.cnot(1, 2)\n",
    "circuit2.cnot(0, 1)\n",
    "circuit2.h(0)\n",
    "circuit2.cnot(1, 2)\n",
    "circuit2.cz(0, 2)\n",
    "\n",
    "print(circuit2)"
   ]
  },
  {
   "cell_type": "code",
   "execution_count": 43,
   "metadata": {},
   "outputs": [
    {
     "name": "stdout",
     "output_type": "stream",
     "text": [
      "Simulator \"default\":  Counter({'100': 260, '110': 260, '010': 244, '000': 236})\n",
      "Simulator \"braket_dm\":  Counter({'000': 260, '110': 251, '100': 248, '010': 241})\n"
     ]
    },
    {
     "name": "stderr",
     "output_type": "stream",
     "text": [
      "/home/markel/.local/lib/python3.9/site-packages/braket/default_simulator/simulator.py:156: UserWarning: You are running a noise-free circuit on the density matrix simulator. Consider running this circuit on the state vector simulator: LocalSimulator(\"default\") for a better user experience.\n",
      "  warnings.warn(\n"
     ]
    }
   ],
   "source": [
    "device3 = LocalSimulator()\n",
    "result3 = device3.run(circuit2, shots=1000).result()\n",
    "counts3 = result3.measurement_counts\n",
    "\n",
    "device4 = LocalSimulator(backend=\"braket_dm\")\n",
    "result4 = device4.run(circuit2, shots=1000).result()\n",
    "counts4 = result4.measurement_counts\n",
    "\n",
    "print(\"Simulator \\\"default\\\": \", counts3)\n",
    "print(\"Simulator \\\"braket_dm\\\": \", counts4)"
   ]
  },
  {
   "cell_type": "code",
   "execution_count": 44,
   "metadata": {},
   "outputs": [
    {
     "data": {
      "text/plain": [
       "Text(0, 0.5, 'Counts')"
      ]
     },
     "execution_count": 44,
     "metadata": {},
     "output_type": "execute_result"
    },
    {
     "data": {
      "image/png": "[encoded data removed]",
      "text/plain": [
       "<Figure size 432x288 with 1 Axes>"
      ]
     },
     "metadata": {
      "needs_background": "light"
     },
     "output_type": "display_data"
    }
   ],
   "source": [
    "plt.bar(counts3.keys(), counts3.values())\n",
    "plt.title(\"Default backend\")\n",
    "plt.xlabel('Bitstrings')\n",
    "plt.ylabel('Counts')"
   ]
  },
  {
   "cell_type": "code",
   "execution_count": 45,
   "metadata": {},
   "outputs": [
    {
     "data": {
      "text/plain": [
       "Text(0, 0.5, 'Counts')"
      ]
     },
     "execution_count": 45,
     "metadata": {},
     "output_type": "execute_result"
    },
    {
     "data": {
      "image/png": "[encoded data removed]",
      "text/plain": [
       "<Figure size 432x288 with 1 Axes>"
      ]
     },
     "metadata": {
      "needs_background": "light"
     },
     "output_type": "display_data"
    }
   ],
   "source": [
    "plt.bar(counts4.keys(), counts4.values())\n",
    "plt.title(\"Braket_dm backend\")\n",
    "plt.xlabel('Bitstrings')\n",
    "plt.ylabel('Counts')"
   ]
  },
  {
   "cell_type": "markdown",
   "metadata": {},
   "source": [
    "Al igual que con la versión 1 podemos ver que ambos _backends_ en la versión 2 los valores '100' y '110' son muy parecidos lo que indica que la teleportación está funcionando."
   ]
  },
  {
   "cell_type": "markdown",
   "metadata": {},
   "source": [
    "## Ejercicio 3"
   ]
  },
  {
   "cell_type": "code",
   "execution_count": 51,
   "metadata": {},
   "outputs": [],
   "source": [
    "from braket.circuits import Circuit\n",
    "from braket.devices import LocalSimulator\n",
    "import matplotlib.pyplot as plt"
   ]
  },
  {
   "cell_type": "code",
   "execution_count": 52,
   "metadata": {},
   "outputs": [],
   "source": [
    "# Función para ejecutar tareas cuánticas, comprobar el estado de las mismas y recoger resultados\n",
    "def get_result(device, circ):\n",
    "    # Obtener número de qubits\n",
    "    num_qubits = circuito.qubit_count\n",
    "    # Establecer los resultados deseados\n",
    "    circ.probability()\n",
    "\n",
    "    task = device.run(circ, shots=1000)\n",
    "\n",
    "    # Esperar a que termine la tarea\n",
    "    status_list = []\n",
    "    status = task.state()\n",
    "    status_list += [status]\n",
    "    print('\\nEstado:', status)\n",
    "\n",
    "    # Solo notificar al usuario cuando hay un cambio de estado\n",
    "    while status != 'COMPLETED':\n",
    "        status = task.state()\n",
    "        if status != status_list[-1]:\n",
    "            print('Estado:', status)\n",
    "        status_list += [status]\n",
    "\n",
    "    result = task.result()\n",
    "    # Obtener las probabilidades de salida\n",
    "    probs_values = result.values[0]\n",
    "    # Obtener los resultados de las mediciones\n",
    "    measurement_counts = result.measurement_counts\n",
    "\n",
    "    print('Resultados de la medición:', measurement_counts)\n",
    "\n",
    "    format_bitstring = '{0:0' + str(num_qubits) + 'b}'\n",
    "    bitstring_keys = [format_bitstring.format(ii) for ii in range(2**num_qubits)]\n",
    "\n",
    "    plt.bar(bitstring_keys, probs_values)\n",
    "    plt.xlabel('Bits')\n",
    "    plt.ylabel('Probabilidad')\n",
    "    plt.xticks(rotation=90)\n",
    "    plt.show() \n",
    "    \n",
    "    return measurement_counts"
   ]
  },
  {
   "cell_type": "code",
   "execution_count": 53,
   "metadata": {},
   "outputs": [
    {
     "name": "stdout",
     "output_type": "stream",
     "text": [
      "T  : |0|1|2|3|4|\n",
      "                \n",
      "q0 : -H-C-X-C-H-\n",
      "        |   |   \n",
      "q1 : ---X---X---\n",
      "\n",
      "T  : |0|1|2|3|4|\n",
      "\n",
      "Estado: COMPLETED\n",
      "Resultados de la medición: Counter({'01': 1000})\n"
     ]
    },
    {
     "data": {
      "image/png": "[encoded data removed]",
      "text/plain": [
       "<Figure size 432x288 with 1 Axes>"
      ]
     },
     "metadata": {
      "needs_background": "light"
     },
     "output_type": "display_data"
    },
    {
     "name": "stdout",
     "output_type": "stream",
     "text": [
      "Counter({'01': 1000})\n"
     ]
    }
   ],
   "source": [
    "device = LocalSimulator()\n",
    "\n",
    "# Alice y Bob inicialmente comparten un par de Bell\n",
    "circuito = Circuit()\n",
    "circuito.h([0])\n",
    "circuito.cnot(0,1)\n",
    "\n",
    "# Definimos el esquema de codificación de Alice según la tabla\n",
    "mensaje = {\"00\": Circuit().i(0),\n",
    "           \"01\": Circuit().x(0),\n",
    "           \"10\": Circuit().z(0),\n",
    "           \"11\": Circuit().x(0).z(0)\n",
    "        }\n",
    "\n",
    "# Elegimos el mensaja a enviar\n",
    "m = \"01\"\n",
    "\n",
    "# Alice codifica su mensaje aplicando las puertas definidas anteriormente\n",
    "circuito.add_circuit(mensaje[m])\n",
    "\n",
    "# Alice envía su qubit a Bob para que Bob tenga ambos qubits. Bob decodifica el mensaje de Alice desenredando los dos qubits\n",
    "circuito.cnot(0,1)\n",
    "circuito.h([0])\n",
    "\n",
    "print(circuito)\n",
    "\n",
    "# Al medir los dos qubits en la base computacional, Bob puede leer el mensaje de dos qubits de Alice\n",
    "counts = get_result(device, circuito)\n",
    "print(counts)"
   ]
  },
  {
   "cell_type": "markdown",
   "metadata": {},
   "source": [
    "Al medir los dos qubits en la base computacional, Bob puede leer el mensaje de dos qubits de Alice"
   ]
  },
  {
   "cell_type": "code",
   "execution_count": 54,
   "metadata": {},
   "outputs": [
    {
     "name": "stdout",
     "output_type": "stream",
     "text": [
      "\n",
      "Estado: COMPLETED\n",
      "Resultados de la medición: Counter({'00': 1000})\n"
     ]
    },
    {
     "data": {
      "image/png": "[encoded data removed]",
      "text/plain": [
       "<Figure size 432x288 with 1 Axes>"
      ]
     },
     "metadata": {
      "needs_background": "light"
     },
     "output_type": "display_data"
    },
    {
     "name": "stdout",
     "output_type": "stream",
     "text": [
      "Mensaje: 00. Resultados:\n",
      "Counter({'00': 1000})\n",
      "\n",
      "Estado: COMPLETED\n",
      "Resultados de la medición: Counter({'01': 1000})\n"
     ]
    },
    {
     "data": {
      "image/png": "[encoded data removed]",
      "text/plain": [
       "<Figure size 432x288 with 1 Axes>"
      ]
     },
     "metadata": {
      "needs_background": "light"
     },
     "output_type": "display_data"
    },
    {
     "name": "stdout",
     "output_type": "stream",
     "text": [
      "Mensaje: 01. Resultados:\n",
      "Counter({'01': 1000})\n",
      "\n",
      "Estado: COMPLETED\n",
      "Resultados de la medición: Counter({'10': 1000})\n"
     ]
    },
    {
     "data": {
      "image/png": "[encoded data removed]",
      "text/plain": [
       "<Figure size 432x288 with 1 Axes>"
      ]
     },
     "metadata": {
      "needs_background": "light"
     },
     "output_type": "display_data"
    },
    {
     "name": "stdout",
     "output_type": "stream",
     "text": [
      "Mensaje: 10. Resultados:\n",
      "Counter({'10': 1000})\n",
      "\n",
      "Estado: COMPLETED\n",
      "Resultados de la medición: Counter({'11': 1000})\n"
     ]
    },
    {
     "data": {
      "image/png": "[encoded data removed]",
      "text/plain": [
       "<Figure size 432x288 with 1 Axes>"
      ]
     },
     "metadata": {
      "needs_background": "light"
     },
     "output_type": "display_data"
    },
    {
     "name": "stdout",
     "output_type": "stream",
     "text": [
      "Mensaje: 11. Resultados:\n",
      "Counter({'11': 1000})\n"
     ]
    }
   ],
   "source": [
    "# Ahora podemos comprobar que este esquema funciona también para los otros posibles mensajes.\n",
    "for m in mensaje:\n",
    "    # Reproducir el circuito completo anterior por concatenación de todas las puertas:\n",
    "    circuito2 = Circuit().h([0]).cnot(0,1).add_circuit(mensaje[m]).cnot(0,1).h([0])\n",
    "    # Correr el circuito\n",
    "    counts = get_result(device, circuito2)\n",
    "    \n",
    "    print(\"Mensaje: \" + m + \". Resultados:\")\n",
    "    print(counts)"
   ]
  },
  {
   "cell_type": "markdown",
   "metadata": {},
   "source": [
    "Podemos comprobar que este circuito funciona también para los otros posibles mensajes."
   ]
  },
  {
   "cell_type": "markdown",
   "metadata": {},
   "source": [
    "## Ejercicio 4"
   ]
  },
  {
   "cell_type": "markdown",
   "metadata": {},
   "source": [
    "### IBM"
   ]
  },
  {
   "cell_type": "code",
   "execution_count": 4,
   "metadata": {},
   "outputs": [],
   "source": [
    "# Cargamos las credenciales de IBMQ\n",
    "from qiskit import IBMQ\n",
    "\n",
    "with open('qiskit.txt', 'r') as file:\n",
    "\ttoken = file.read()\n",
    "\n",
    "# IBMQ.save_account(token, hub='ibm-q-education', group='uni-complutense-2', project='architecture-pro', overwrite=True)\n",
    "IBMQ.save_account(token, overwrite=True)"
   ]
  },
  {
   "cell_type": "markdown",
   "metadata": {},
   "source": [
    "##### Ejercicio 2"
   ]
  },
  {
   "cell_type": "code",
   "execution_count": 1,
   "metadata": {},
   "outputs": [],
   "source": [
    "from qiskit import QuantumCircuit, QuantumRegister, ClassicalRegister\n",
    "from qiskit import execute, transpile, Aer\n",
    "from qiskit.providers.ibmq import least_busy\n",
    "from qiskit.visualization import plot_histogram\n",
    "from math import pi\n"
   ]
  },
  {
   "cell_type": "code",
   "execution_count": 2,
   "metadata": {},
   "outputs": [
    {
     "data": {
      "text/html": [
       "<pre style=\"word-wrap: normal;white-space: pre;background: #fff0;line-height: 1.1;font-family: &quot;Courier New&quot;,Courier,monospace\">                    ░ ┌─────────┐ ░      ┌───┐ ░          ░                \n",
       "alice_0: ───────────░─┤ Rx(π/4) ├─░───■──┤ H ├─░───────■──░────────────────\n",
       "         ┌───┐      ░ └─────────┘ ░ ┌─┴─┐└───┘ ░       │  ░                \n",
       "alice_1: ┤ H ├──■───░─────────────░─┤ X ├──────░───■───┼──░────────────────\n",
       "         └───┘┌─┴─┐ ░             ░ └───┘      ░ ┌─┴─┐ │  ░ ┌──────────┐┌─┐\n",
       "    bob: ─────┤ X ├─░─────────────░────────────░─┤ X ├─■──░─┤ Rx(-π/4) ├┤M├\n",
       "              └───┘ ░             ░            ░ └───┘    ░ └──────────┘└╥┘\n",
       "   c0: 1/════════════════════════════════════════════════════════════════╩═\n",
       "                                                                         0 </pre>"
      ],
      "text/plain": [
       "                    ░ ┌─────────┐ ░      ┌───┐ ░          ░                \n",
       "alice_0: ───────────░─┤ Rx(π/4) ├─░───■──┤ H ├─░───────■──░────────────────\n",
       "         ┌───┐      ░ └─────────┘ ░ ┌─┴─┐└───┘ ░       │  ░                \n",
       "alice_1: ┤ H ├──■───░─────────────░─┤ X ├──────░───■───┼──░────────────────\n",
       "         └───┘┌─┴─┐ ░             ░ └───┘      ░ ┌─┴─┐ │  ░ ┌──────────┐┌─┐\n",
       "    bob: ─────┤ X ├─░─────────────░────────────░─┤ X ├─■──░─┤ Rx(-π/4) ├┤M├\n",
       "              └───┘ ░             ░            ░ └───┘    ░ └──────────┘└╥┘\n",
       "   c0: 1/════════════════════════════════════════════════════════════════╩═\n",
       "                                                                         0 "
      ]
     },
     "execution_count": 2,
     "metadata": {},
     "output_type": "execute_result"
    }
   ],
   "source": [
    "\n",
    "alice_reg = QuantumRegister(2, name=\"alice\")\n",
    "bob_reg = QuantumRegister(1, name=\"bob\")\n",
    "circuito = QuantumCircuit(alice_reg, bob_reg)\n",
    "\n",
    "circuito.h(alice_reg[1])\n",
    "circuito.cx(alice_reg[1], bob_reg[0])\n",
    "\n",
    "bob_class_reg = ClassicalRegister(1)\n",
    "circuito.add_register(bob_class_reg)\n",
    "\n",
    "circuito.barrier()\n",
    "\n",
    "circuito.rx(pi/4, alice_reg[0])\n",
    "\n",
    "circuito.barrier()\n",
    "\n",
    "circuito.cx(alice_reg[0], alice_reg[1])\n",
    "circuito.h(alice_reg[0])\n",
    "\n",
    "circuito.barrier()\n",
    "\n",
    "circuito.cx(alice_reg[1], bob_reg[0])\n",
    "circuito.cz(alice_reg[0], bob_reg[0])\n",
    "\n",
    "circuito.barrier()\n",
    "\n",
    "circuito.rx(-pi/4, bob_reg[0])\n",
    "circuito.measure(bob_reg[0], bob_class_reg)\n",
    "\n",
    "circuito.draw()"
   ]
  },
  {
   "cell_type": "code",
   "execution_count": 5,
   "metadata": {},
   "outputs": [
    {
     "name": "stdout",
     "output_type": "stream",
     "text": [
      "ibmq_quito\n",
      "{'0': 3631, '1': 369}\n"
     ]
    }
   ],
   "source": [
    "provider = IBMQ.load_account()\n",
    "backend = least_busy(provider.backends(filters=lambda b: b.configuration().n_qubits >= 3 and not b.configuration().simulator and b.status().operational==True))\n",
    "print(backend)\n",
    "\n",
    "transp_circ = transpile(circuito, backend, optimization_level=3)\n",
    "job = backend.run(transp_circ).result()\n",
    "counts = job.get_counts(circuito)"
   ]
  },
  {
   "cell_type": "code",
   "execution_count": 7,
   "metadata": {},
   "outputs": [
    {
     "data": {
      "image/png": "[encoded data removed]",
      "text/plain": [
       "<Figure size 504x360 with 1 Axes>"
      ]
     },
     "execution_count": 7,
     "metadata": {},
     "output_type": "execute_result"
    }
   ],
   "source": [
    "plot_histogram(counts)"
   ]
  },
  {
   "cell_type": "markdown",
   "metadata": {},
   "source": [
    "##### Ejercicio 3"
   ]
  },
  {
   "cell_type": "code",
   "execution_count": 8,
   "metadata": {},
   "outputs": [],
   "source": [
    "from qiskit import QuantumCircuit\n",
    "from qiskit import IBMQ, Aer, transpile\n",
    "from qiskit.visualization import plot_histogram"
   ]
  },
  {
   "cell_type": "code",
   "execution_count": 9,
   "metadata": {},
   "outputs": [
    {
     "data": {
      "text/html": [
       "<pre style=\"word-wrap: normal;white-space: pre;background: #fff0;line-height: 1.1;font-family: &quot;Courier New&quot;,Courier,monospace\">             ┌───┐ ░       ░ ┌───┐      ░ ┌─┐   \n",
       "   q_0: ─────┤ X ├─░───────░─┤ X ├──────░─┤M├───\n",
       "        ┌───┐└─┬─┘ ░ ┌───┐ ░ └─┬─┘┌───┐ ░ └╥┘┌─┐\n",
       "   q_1: ┤ H ├──■───░─┤ Z ├─░───■──┤ H ├─░──╫─┤M├\n",
       "        └───┘      ░ └───┘ ░      └───┘ ░  ║ └╥┘\n",
       "meas: 2/═══════════════════════════════════╩══╩═\n",
       "                                           0  1 </pre>"
      ],
      "text/plain": [
       "             ┌───┐ ░       ░ ┌───┐      ░ ┌─┐   \n",
       "   q_0: ─────┤ X ├─░───────░─┤ X ├──────░─┤M├───\n",
       "        ┌───┐└─┬─┘ ░ ┌───┐ ░ └─┬─┘┌───┐ ░ └╥┘┌─┐\n",
       "   q_1: ┤ H ├──■───░─┤ Z ├─░───■──┤ H ├─░──╫─┤M├\n",
       "        └───┘      ░ └───┘ ░      └───┘ ░  ║ └╥┘\n",
       "meas: 2/═══════════════════════════════════╩══╩═\n",
       "                                           0  1 "
      ]
     },
     "execution_count": 9,
     "metadata": {},
     "output_type": "execute_result"
    }
   ],
   "source": [
    "circuito = QuantumCircuit(2)\n",
    "circuito.h(1)\n",
    "circuito.cx(1, 0)\n",
    "\n",
    "circuito.barrier()\n",
    "\n",
    "mensaje = '10'\n",
    "if len(mensaje) != 2 or not set(mensaje).issubset({\"0\",\"1\"}):\n",
    "\traise ValueError(f\"mensaje '{mensaje}' invalido\")\n",
    "if mensaje[1] == \"1\":\n",
    "\tcircuito.x(1)\n",
    "if mensaje[0] == \"1\":\n",
    "\tcircuito.z(1)\n",
    "\n",
    "circuito.barrier()\n",
    "circuito.cx(1, 0)\n",
    "circuito.h(1)\n",
    "circuito.measure_all()\n",
    "\n",
    "circuito.draw()"
   ]
  },
  {
   "cell_type": "code",
   "execution_count": 10,
   "metadata": {},
   "outputs": [
    {
     "name": "stderr",
     "output_type": "stream",
     "text": [
      "ibmqfactory.load_account:WARNING:2022-03-05 10:50:52,494: Credentials are already in use. The existing account in the session will be replaced.\n"
     ]
    },
    {
     "name": "stdout",
     "output_type": "stream",
     "text": [
      "ibmq_lima\n"
     ]
    },
    {
     "data": {
      "image/png": "[encoded data removed]",
      "text/plain": [
       "<Figure size 504x360 with 1 Axes>"
      ]
     },
     "execution_count": 10,
     "metadata": {},
     "output_type": "execute_result"
    }
   ],
   "source": [
    "provider = IBMQ.load_account()\n",
    "backend = least_busy(provider.backends(filters=lambda x: x.configuration().n_qubits >= 2 and not x.configuration().simulator and x.status().operational==True))\n",
    "print(backend)\n",
    "\n",
    "transp_circ = transpile(circuito, backend, optimization_level=3)\n",
    "job = backend.run(transp_circ).result()\n",
    "plot_histogram(job.get_counts(circuito))"
   ]
  },
  {
   "cell_type": "markdown",
   "metadata": {},
   "source": [
    "### IonQ"
   ]
  },
  {
   "cell_type": "markdown",
   "metadata": {},
   "source": [
    "#### Ejercicio 2"
   ]
  },
  {
   "cell_type": "code",
   "execution_count": 12,
   "metadata": {},
   "outputs": [],
   "source": [
    "from braket.circuits import Circuit\n",
    "from braket.aws import AwsDevice"
   ]
  },
  {
   "cell_type": "markdown",
   "metadata": {},
   "source": [
    "##### Versión 1 con rotaciones"
   ]
  },
  {
   "cell_type": "code",
   "execution_count": 22,
   "metadata": {},
   "outputs": [
    {
     "name": "stdout",
     "output_type": "stream",
     "text": [
      "T  : |    0    |1|2|3|    4     |\n",
      "                                 \n",
      "q0 : -Rx(0.785)---X-H-Rx(-0.785)-\n",
      "                  |              \n",
      "q1 : -H---------X-C-X------------\n",
      "                |   |            \n",
      "q2 : -----------C---C-Rz(0)------\n",
      "\n",
      "T  : |    0    |1|2|3|    4     |\n"
     ]
    }
   ],
   "source": [
    "circuit = Circuit()\n",
    "\n",
    "circuit.h(1)\n",
    "circuit.cnot(2, 1)\n",
    "# add a barrier\n",
    "circuit.rx(0, pi/4)\n",
    "# add a barrier\n",
    "circuit.cnot(1,0)\n",
    "circuit.h(0)\n",
    "# add a barrier\n",
    "circuit.cnot(2,1)\n",
    "circuit.rz(2,0)\n",
    "# add a barrier\n",
    "circuit.rx(0, -pi/4)\n",
    "\n",
    "print(circuit)"
   ]
  },
  {
   "cell_type": "code",
   "execution_count": 23,
   "metadata": {},
   "outputs": [
    {
     "name": "stdout",
     "output_type": "stream",
     "text": [
      "Resultados:  Counter({'100': 415, '010': 394, '000': 96, '110': 74, '001': 6, '101': 5, '011': 5, '111': 5})\n"
     ]
    }
   ],
   "source": [
    "device = AwsDevice(\"arn:aws:braket:::device/qpu/ionq/ionQdevice\")\n",
    "s3_folder = (\"amazon-braket-f085dc433a90\", \"apcc2022/markelal/IONQ\")\n",
    "\n",
    "print(\"Resultados: \", device.run(circuit, s3_folder).result().measurement_counts)"
   ]
  },
  {
   "cell_type": "markdown",
   "metadata": {},
   "source": [
    "##### Versión 2 sin rotaciones"
   ]
  },
  {
   "cell_type": "code",
   "execution_count": 24,
   "metadata": {},
   "outputs": [
    {
     "name": "stdout",
     "output_type": "stream",
     "text": [
      "T  : |0|1|2|3|  4  |\n",
      "                    \n",
      "q0 : -----C-H-Rz(2)-\n",
      "          |         \n",
      "q1 : -H-C-X-C-------\n",
      "        |   |       \n",
      "q2 : ---X---X-------\n",
      "\n",
      "T  : |0|1|2|3|  4  |\n"
     ]
    }
   ],
   "source": [
    "circuit2 = Circuit()\n",
    "\n",
    "circuit2.h(1)\n",
    "circuit2.cnot(1, 2)\n",
    "circuit2.cnot(0, 1)\n",
    "circuit2.h(0)\n",
    "circuit2.cnot(1, 2)\n",
    "circuit2.rz(0, 2)\n",
    "\n",
    "print(circuit2)"
   ]
  },
  {
   "cell_type": "code",
   "execution_count": 25,
   "metadata": {},
   "outputs": [
    {
     "name": "stdout",
     "output_type": "stream",
     "text": [
      "Resultados:  Counter({'100': 254, '000': 251, '010': 235, '110': 205, '101': 18, '001': 15, '011': 11, '111': 11})\n"
     ]
    }
   ],
   "source": [
    "device = AwsDevice(\"arn:aws:braket:::device/qpu/ionq/ionQdevice\")\n",
    "s3_folder = (\"amazon-braket-f085dc433a90\", \"apcc2022/markelal/IONQ\")\n",
    "\n",
    "print(\"Resultados: \", device.run(circuit2, s3_folder).result().measurement_counts)"
   ]
  },
  {
   "cell_type": "markdown",
   "metadata": {},
   "source": [
    "#### Ejercicio 3"
   ]
  },
  {
   "cell_type": "code",
   "execution_count": 15,
   "metadata": {},
   "outputs": [],
   "source": [
    "from braket.circuits import Circuit\n",
    "from braket.devices import LocalSimulator\n",
    "import matplotlib.pyplot as plt"
   ]
  },
  {
   "cell_type": "code",
   "execution_count": 16,
   "metadata": {},
   "outputs": [
    {
     "name": "stdout",
     "output_type": "stream",
     "text": [
      "T  : |0|1|2|3|4|\n",
      "                \n",
      "q0 : -H-C-X-C-H-\n",
      "        |   |   \n",
      "q1 : ---X---X---\n",
      "\n",
      "T  : |0|1|2|3|4|\n",
      "Resultados:  Counter({'01': 986, '11': 10, '00': 4})\n"
     ]
    }
   ],
   "source": [
    "# Alice y Bob inicialmente comparten un par de Bell\n",
    "circuito = Circuit()\n",
    "circuito.h([0])\n",
    "circuito.cnot(0,1)\n",
    "\n",
    "# Definimos el esquema de codificación de Alice según la tabla\n",
    "mensaje = {\"00\": Circuit().i(0),\n",
    "           \"01\": Circuit().x(0),\n",
    "           \"10\": Circuit().z(0),\n",
    "           \"11\": Circuit().x(0).z(0)\n",
    "        }\n",
    "\n",
    "# Elegimos el mensaja a enviar\n",
    "m = \"01\"\n",
    "\n",
    "# Alice codifica su mensaje aplicando las puertas definidas anteriormente\n",
    "circuito.add_circuit(mensaje[m])\n",
    "\n",
    "# Alice envía su qubit a Bob para que Bob tenga ambos qubits. Bob decodifica el mensaje de Alice desenredando los dos qubits\n",
    "circuito.cnot(0,1)\n",
    "circuito.h([0])\n",
    "\n",
    "print(circuito)\n",
    "\n",
    "device = AwsDevice(\"arn:aws:braket:::device/qpu/ionq/ionQdevice\")\n",
    "s3_folder = (\"amazon-braket-f085dc433a90\", \"apcc2022/markelal/IONQ\")\n",
    "\n",
    "print(\"Resultados: \", device.run(circuito, s3_folder).result().measurement_counts)"
   ]
  },
  {
   "cell_type": "markdown",
   "metadata": {},
   "source": [
    "### Rigeti"
   ]
  },
  {
   "cell_type": "markdown",
   "metadata": {},
   "source": [
    "#### Ejercicio 2"
   ]
  },
  {
   "cell_type": "code",
   "execution_count": 17,
   "metadata": {},
   "outputs": [],
   "source": [
    "from braket.circuits import Circuit\n",
    "from braket.aws import AwsDevice"
   ]
  },
  {
   "cell_type": "markdown",
   "metadata": {},
   "source": [
    "##### Versión 1 con rotaciones"
   ]
  },
  {
   "cell_type": "code",
   "execution_count": 18,
   "metadata": {},
   "outputs": [
    {
     "name": "stdout",
     "output_type": "stream",
     "text": [
      "T  : |    0    |1|2|3|4|    5     |\n",
      "                                   \n",
      "q0 : -Rx(0.785)---X-H-Z-Rx(-0.785)-\n",
      "                  |   |            \n",
      "q1 : -H---------X-C-X-|------------\n",
      "                |   | |            \n",
      "q2 : -----------C---C-C------------\n",
      "\n",
      "T  : |    0    |1|2|3|4|    5     |\n",
      "Resultados:  Counter({'100': 356, '010': 242, '000': 215, '110': 171, '101': 6, '001': 5, '011': 3, '111': 2})\n"
     ]
    }
   ],
   "source": [
    "circuit = Circuit()\n",
    "\n",
    "circuit.h(1)\n",
    "circuit.cnot(2, 1)\n",
    "# add a barrier\n",
    "circuit.rx(0, pi/4)\n",
    "# add a barrier\n",
    "circuit.cnot(1,0)\n",
    "circuit.h(0)\n",
    "# add a barrier\n",
    "circuit.cnot(2,1)\n",
    "circuit.cz(2,0)\n",
    "# add a barrier\n",
    "circuit.rx(0, -pi/4)\n",
    "\n",
    "print(circuit)\n",
    "\n",
    "device = AwsDevice(\"arn:aws:braket:us-west-1::device/qpu/rigetti/Aspen-M-1\")\n",
    "s3_folder = (\"amazon-braket-f085dc433a90\", \"apcc2022/markelal/RIGETTI\")\n",
    "\n",
    "print(\"Resultados: \", device.run(circuit, s3_folder).result().measurement_counts)"
   ]
  },
  {
   "cell_type": "markdown",
   "metadata": {},
   "source": [
    "##### Versión 2 sin rotaciones"
   ]
  },
  {
   "cell_type": "code",
   "execution_count": 19,
   "metadata": {},
   "outputs": [
    {
     "name": "stdout",
     "output_type": "stream",
     "text": [
      "T  : |0|1|2|3|4|\n",
      "                \n",
      "q0 : -----C-H-C-\n",
      "          |   | \n",
      "q1 : -H-C-X-C-|-\n",
      "        |   | | \n",
      "q2 : ---X---X-Z-\n",
      "\n",
      "T  : |0|1|2|3|4|\n",
      "Resultados:  Counter({'111': 332, '011': 189, '101': 134, '001': 109, '110': 71, '010': 61, '100': 58, '000': 46})\n"
     ]
    }
   ],
   "source": [
    "circuit2 = Circuit()\n",
    "\n",
    "circuit2.h(1)\n",
    "circuit2.cnot(1, 2)\n",
    "circuit2.cnot(0, 1)\n",
    "circuit2.h(0)\n",
    "circuit2.cnot(1, 2)\n",
    "circuit2.cz(0, 2)\n",
    "\n",
    "print(circuit2)\n",
    "\n",
    "device = AwsDevice(\"arn:aws:braket:us-west-1::device/qpu/rigetti/Aspen-M-1\")\n",
    "s3_folder = (\"amazon-braket-f085dc433a90\", \"apcc2022/markelal/RIGETTI\")\n",
    "\n",
    "print(\"Resultados: \", device.run(circuit2, s3_folder).result().measurement_counts)"
   ]
  },
  {
   "cell_type": "markdown",
   "metadata": {},
   "source": [
    "#### Ejercicio 3"
   ]
  },
  {
   "cell_type": "code",
   "execution_count": 20,
   "metadata": {},
   "outputs": [],
   "source": [
    "from braket.circuits import Circuit\n",
    "from braket.devices import LocalSimulator\n",
    "import matplotlib.pyplot as plt"
   ]
  },
  {
   "cell_type": "code",
   "execution_count": 21,
   "metadata": {},
   "outputs": [
    {
     "name": "stdout",
     "output_type": "stream",
     "text": [
      "T  : |0|1|2|3|4|\n",
      "                \n",
      "q0 : -H-C-X-C-H-\n",
      "        |   |   \n",
      "q1 : ---X---X---\n",
      "\n",
      "T  : |0|1|2|3|4|\n",
      "Resultados:  Counter({'100': 382, '010': 232, '110': 199, '000': 163, '101': 9, '011': 6, '001': 5, '111': 4})\n"
     ]
    }
   ],
   "source": [
    "# Alice y Bob inicialmente comparten un par de Bell\n",
    "circuito = Circuit()\n",
    "circuito.h([0])\n",
    "circuito.cnot(0,1)\n",
    "\n",
    "# Definimos el esquema de codificación de Alice según la tabla\n",
    "mensaje = {\"00\": Circuit().i(0),\n",
    "           \"01\": Circuit().x(0),\n",
    "           \"10\": Circuit().z(0),\n",
    "           \"11\": Circuit().x(0).z(0)\n",
    "        }\n",
    "\n",
    "# Elegimos el mensaja a enviar\n",
    "m = \"01\"\n",
    "\n",
    "# Alice codifica su mensaje aplicando las puertas definidas anteriormente\n",
    "circuito.add_circuit(mensaje[m])\n",
    "\n",
    "# Alice envía su qubit a Bob para que Bob tenga ambos qubits. Bob decodifica el mensaje de Alice desenredando los dos qubits\n",
    "circuito.cnot(0,1)\n",
    "circuito.h([0])\n",
    "\n",
    "print(circuito)\n",
    "\n",
    "device = AwsDevice(\"arn:aws:braket:us-west-1::device/qpu/rigetti/Aspen-M-1\")\n",
    "s3_folder = (\"amazon-braket-f085dc433a90\", \"apcc2022/markelal/RIGETTI\")\n",
    "\n",
    "print(\"Resultados: \", device.run(circuit, s3_folder).result().measurement_counts)"
   ]
  }
 ],
 "metadata": {
  "interpreter": {
   "hash": "916dbcbb3f70747c44a77c7bcd40155683ae19c65e1c03b4aa3499c5328201f1"
  },
  "kernelspec": {
   "display_name": "Python 3.9.7 64-bit",
   "language": "python",
   "name": "python3"
  },
  "language_info": {
   "codemirror_mode": {
    "name": "ipython",
    "version": 3
   },
   "file_extension": ".py",
   "mimetype": "text/x-python",
   "name": "python",
   "nbconvert_exporter": "python",
   "pygments_lexer": "ipython3",
   "version": "3.9.7"
  },
  "orig_nbformat": 4
 },
 "nbformat": 4,
 "nbformat_minor": 2
}
