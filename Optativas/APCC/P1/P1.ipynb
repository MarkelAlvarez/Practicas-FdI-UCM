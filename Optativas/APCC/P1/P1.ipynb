{
 "cells": [
  {
   "cell_type": "markdown",
   "metadata": {},
   "source": [
    "## Parte guiada"
   ]
  },
  {
   "cell_type": "markdown",
   "metadata": {},
   "source": [
    "#### Código generador de números aleatorios en Qiskit"
   ]
  },
  {
   "cell_type": "code",
   "execution_count": 1,
   "metadata": {},
   "outputs": [
    {
     "name": "stdout",
     "output_type": "stream",
     "text": [
      "\n",
      "Número de ocurrencias para 0 y 1: {'0': 479, '1': 521}\n"
     ]
    },
    {
     "data": {
      "text/html": [
       "<pre style=\"word-wrap: normal;white-space: pre;background: #fff0;line-height: 1.1;font-family: &quot;Courier New&quot;,Courier,monospace\">     ┌───┐┌─┐\n",
       "  q: ┤ H ├┤M├\n",
       "     └───┘└╥┘\n",
       "c: 1/══════╩═\n",
       "           0 </pre>"
      ],
      "text/plain": [
       "     ┌───┐┌─┐\n",
       "  q: ┤ H ├┤M├\n",
       "     └───┘└╥┘\n",
       "c: 1/══════╩═\n",
       "           0 "
      ]
     },
     "execution_count": 1,
     "metadata": {},
     "output_type": "execute_result"
    }
   ],
   "source": [
    "import numpy as np\n",
    "from qiskit import(\n",
    "  QuantumCircuit,\n",
    "  execute,\n",
    "  Aer)\n",
    "from qiskit.visualization import plot_histogram\n",
    "\n",
    "# Usamos el qasm_simulator de Aer\n",
    "simulator = Aer.get_backend('qasm_simulator')\n",
    "# Creamos un objeto Quantum Circuit que actúa sobre el registro cuántico por defecto (q) \n",
    "# de un bit (primer parámetro) y que tiene un registro clásico de un bit (segundo parámetro)\n",
    "circuit = QuantumCircuit(1, 1)\n",
    "# Añadimos una puerta Hadamard con el qubit q_0 como entrada\n",
    "circuit.h(0)\n",
    "# Mapeamos la medida de los qubits (primer parámetro) sobre los bits clásicos\n",
    "circuit.measure([0], [0])\n",
    "# Ejecutamos el circuito sobre el simulador qasm\n",
    "job = execute(circuit, simulator, shots=1000)\n",
    "# Almacenamos los resultados\n",
    "result = job.result()\n",
    "# Capturamos las ocurrencias de salida\n",
    "counts = result.get_counts(circuit)\n",
    "# Escribimos el número de ocurrencias\n",
    "print(\"\\nNúmero de ocurrencias para 0 y 1:\",counts)\n",
    "# Dibujamos el circuito\n",
    "circuit.draw()"
   ]
  },
  {
   "cell_type": "code",
   "execution_count": 2,
   "metadata": {},
   "outputs": [
    {
     "data": {
      "image/png": "[encoded data removed]",
      "text/plain": [
       "<Figure size 504x360 with 1 Axes>"
      ]
     },
     "execution_count": 2,
     "metadata": {},
     "output_type": "execute_result"
    }
   ],
   "source": [
    "plot_histogram(counts)"
   ]
  },
  {
   "cell_type": "markdown",
   "metadata": {},
   "source": [
    "## Parte no guiada"
   ]
  },
  {
   "cell_type": "code",
   "execution_count": 1,
   "metadata": {},
   "outputs": [],
   "source": [
    "from qiskit import IBMQ\n",
    "\n",
    "with open('qiskit.txt', 'r') as file:\n",
    "\ttoken = file.read()\n",
    "\n",
    "# IBMQ.save_account(token, hub='ibm-q-education', group='uni-complutense-2', project='architecture-pro', overwrite=True)\n",
    "IBMQ.save_account(token, overwrite=True)"
   ]
  },
  {
   "cell_type": "code",
   "execution_count": null,
   "metadata": {},
   "outputs": [],
   "source": [
    "# from qiskit.providers.ibmq import least_busy\n",
    "\n",
    "# provider = IBMQ.load_account()\n",
    "\n",
    "# small_devices = provider.backends(filters=lambda x: x.configuration().n_qubits >= 5 and not x.configuration().simulator)\n",
    "# backend = least_busy(small_devices)"
   ]
  },
  {
   "cell_type": "markdown",
   "metadata": {},
   "source": [
    "#### Ejercicio 1"
   ]
  },
  {
   "cell_type": "code",
   "execution_count": 8,
   "metadata": {},
   "outputs": [
    {
     "name": "stdout",
     "output_type": "stream",
     "text": [
      "\n",
      "Corriendo en el simulador aer_simulator\n",
      "Primer estado de Bell:\n",
      "\n",
      "     ┌───┐     ┌─┐   \n",
      "q_0: ┤ H ├──■──┤M├───\n",
      "     └───┘┌─┴─┐└╥┘┌─┐\n",
      "q_1: ─────┤ X ├─╫─┤M├\n",
      "          └───┘ ║ └╥┘\n",
      "c: 2/═══════════╩══╩═\n",
      "                0  1 \n",
      "Job Status: job has successfully run\n",
      "{'11': 509, '00': 491}\n",
      "\n",
      "Corriendo en el simulador aer_simulator_statevector\n",
      "Primer estado de Bell:\n",
      "\n",
      "     ┌───┐     ┌─┐   \n",
      "q_0: ┤ H ├──■──┤M├───\n",
      "     └───┘┌─┴─┐└╥┘┌─┐\n",
      "q_1: ─────┤ X ├─╫─┤M├\n",
      "          └───┘ ║ └╥┘\n",
      "c: 2/═══════════╩══╩═\n",
      "                0  1 \n",
      "Job Status: job has successfully run\n",
      "{'00': 488, '11': 512}\n",
      "\n",
      "Corriendo en el simulador aer_simulator_density_matrix\n",
      "Primer estado de Bell:\n",
      "\n",
      "     ┌───┐     ┌─┐   \n",
      "q_0: ┤ H ├──■──┤M├───\n",
      "     └───┘┌─┴─┐└╥┘┌─┐\n",
      "q_1: ─────┤ X ├─╫─┤M├\n",
      "          └───┘ ║ └╥┘\n",
      "c: 2/═══════════╩══╩═\n",
      "                0  1 \n",
      "Job Status: job has successfully run\n",
      "{'11': 511, '00': 489}\n"
     ]
    }
   ],
   "source": [
    "from qiskit import QuantumRegister, ClassicalRegister,QuantumCircuit, execute, IBMQ, Aer\n",
    "from qiskit.tools.monitor import job_monitor\n",
    "from qiskit.visualization import plot_histogram\n",
    "\n",
    "q = QuantumRegister(2,'q')\n",
    "c = ClassicalRegister(2,'c')\n",
    "\n",
    "def primerEstadoBell():\n",
    "    circuit = QuantumCircuit(q,c)\n",
    "\n",
    "    circuit.h(q[0]) # Hadamard gate \n",
    "    circuit.cx(q[0],q[1]) # CNOT gate\n",
    "    circuit.measure(q,c) # Qubit Measurment\n",
    "\n",
    "    print(circuit)\n",
    "\n",
    "    job = execute(circuit, backend, shots=1000)\n",
    "    \n",
    "    job_monitor(job)\n",
    "    counts = job.result().get_counts()\n",
    "\n",
    "    print(counts)\n",
    "\n",
    "def segundoEstadoBell():\n",
    "    circuit = QuantumCircuit(q,c)\n",
    "\n",
    "    circuit.x(q[0]) # Pauli-X gate \n",
    "    circuit.h(q[0]) # Hadamard gate \n",
    "    circuit.cx(q[0],q[1]) # CNOT gate\n",
    "    circuit.measure(q,c) # Qubit Measurment\n",
    "\n",
    "    print(circuit)\n",
    "\n",
    "    job = execute(circuit, backend, shots=1000)\n",
    "    \n",
    "    job_monitor(job)\n",
    "    counts = job.result().get_counts()\n",
    "\n",
    "    print(counts)\n",
    "\n",
    "def tercerEstadoBell():\n",
    "    circuit = QuantumCircuit(q,c)\n",
    "\n",
    "    circuit.x(q[1]) # Pauli-X gate \n",
    "    circuit.h(q[0]) # Hadamard gate \n",
    "    circuit.cx(q[0],q[1]) # CNOT gate\n",
    "    circuit.measure(q,c) # Qubit Measurment\n",
    "\n",
    "    print(circuit)\n",
    "\n",
    "    job = execute(circuit, backend, shots=1000)\n",
    "    \n",
    "    job_monitor(job)\n",
    "    counts = job.result().get_counts()\n",
    "\n",
    "    print(counts)\n",
    "\n",
    "def cuartoEstadoBell():\n",
    "    circuit = QuantumCircuit(q,c)\n",
    "\n",
    "    circuit.x(q[1]) # Pauli-X gate \n",
    "    circuit.h(q[0]) # Hadamard gate\n",
    "    circuit.z(q[0]) # Pauli-Z gate\n",
    "    circuit.z(q[1]) # Pauli-Z  gate \n",
    "    circuit.cx(q[0],q[1]) # CNOT gate\n",
    "    circuit.measure(q,c) # Qubit Measurment\n",
    "\n",
    "    print(circuit)\n",
    "\n",
    "    job = execute(circuit, backend, shots=1000)\n",
    "    \n",
    "    job_monitor(job)\n",
    "    counts = job.result().get_counts(circuit)\n",
    "\n",
    "    print(counts)\n",
    "\n",
    "available_simulators = Aer.backends()\n",
    "for simulator in available_simulators[:3]:\n",
    "    backend = Aer.get_backend(str(simulator))\n",
    "\n",
    "    print(\"\\nCorriendo en el simulador %s\" % backend)\n",
    "    print(\"Primer estado de Bell:\\n\")\n",
    "    primerEstadoBell()\n",
    "    # print(\"\\nSegundo estado de Bell:\\n\")\n",
    "    # segundoEstadoBell()\n",
    "    # print(\"\\nTercer estado de Bell:\\n\")\n",
    "    # tercerEstadoBell()\n",
    "    # print(\"\\nCuarto estado de Bell:\\n\")\n",
    "    # cuartoEstadoBell()"
   ]
  },
  {
   "cell_type": "markdown",
   "metadata": {},
   "source": [
    "El numero de ocurrencias es muy parecido entre los 3 simuladores en los que se ha corrido el primer estado de Bell."
   ]
  },
  {
   "cell_type": "markdown",
   "metadata": {},
   "source": [
    "#### Ejercicio 2"
   ]
  },
  {
   "cell_type": "code",
   "execution_count": 10,
   "metadata": {},
   "outputs": [
    {
     "name": "stderr",
     "output_type": "stream",
     "text": [
      "ibmqfactory.load_account:WARNING:2022-02-21 19:58:33,376: Credentials are already in use. The existing account in the session will be replaced.\n"
     ]
    },
    {
     "name": "stdout",
     "output_type": "stream",
     "text": [
      "\n",
      "Corriendo en el simulador ibmq_bogota\n",
      "Primer estado de Bell:\n",
      "\n",
      "        ┌───┐           ░ ┌─┐      \n",
      "   q_0: ┤ H ├──■────────░─┤M├──────\n",
      "        └───┘┌─┴─┐      ░ └╥┘┌─┐   \n",
      "   q_1: ─────┤ X ├──■───░──╫─┤M├───\n",
      "             └───┘┌─┴─┐ ░  ║ └╥┘┌─┐\n",
      "   q_2: ──────────┤ X ├─░──╫──╫─┤M├\n",
      "                  └───┘ ░  ║  ║ └╥┘\n",
      "   c: 3/═══════════════════╬══╬══╬═\n",
      "                           ║  ║  ║ \n",
      "meas: 3/═══════════════════╩══╩══╩═\n",
      "                           0  1  2 \n",
      "{'001 000': 16, '000 000': 458, '110 000': 47, '111 000': 405, '101 000': 38, '011 000': 27, '100 000': 11, '010 000': 22}\n"
     ]
    }
   ],
   "source": [
    "from qiskit import QuantumRegister, ClassicalRegister, QuantumCircuit, execute, IBMQ, Aer, transpile\n",
    "from qiskit.tools.monitor import job_monitor\n",
    "from qiskit.visualization import plot_histogram\n",
    "from qiskit.providers.aer.noise import NoiseModel\n",
    "\n",
    "provider = IBMQ.load_account()\n",
    "backend = provider.get_backend('ibmq_bogota')\n",
    "\n",
    "noise_model = NoiseModel.from_backend(backend)\n",
    "coupling_map = backend.configuration().coupling_map\n",
    "basis_gates = noise_model.basis_gates\n",
    "\n",
    "print(\"\\nCorriendo en el simulador %s\" % backend)\n",
    "print(\"Primer estado de Bell:\\n\")\n",
    "\n",
    "q = QuantumRegister(3, 'q')\n",
    "c = ClassicalRegister(3, 'c')\n",
    "\n",
    "circuit = QuantumCircuit(q, c)\n",
    "\n",
    "circuit.h(q[0]) # Hadamard gate \n",
    "circuit.cx(q[0],q[1]) # CNOT gate\n",
    "circuit.cx(q[1],q[2]) # CNOT gate\n",
    "circuit.measure_all() # Qubit Measurment\n",
    "\n",
    "transp_circ = transpile(circuit, backend)\n",
    "job = execute(transp_circ, Aer.get_backend('qasm_simulator'), coupling_map=coupling_map, basis_gates=basis_gates, noise_model=noise_model).result()\n",
    "counts = job.get_counts(circuit)\n",
    "circuit.draw()\n",
    "\n",
    "print(circuit)\n",
    "print(counts)"
   ]
  },
  {
   "cell_type": "code",
   "execution_count": 11,
   "metadata": {},
   "outputs": [
    {
     "data": {
      "image/png": "[encoded data removed]",
      "text/plain": [
       "<Figure size 504x360 with 1 Axes>"
      ]
     },
     "execution_count": 11,
     "metadata": {},
     "output_type": "execute_result"
    }
   ],
   "source": [
    "plot_histogram(counts)"
   ]
  },
  {
   "cell_type": "markdown",
   "metadata": {},
   "source": [
    "En este circuito a diferencia del anterior, se ha añadido un qubit adicional y una puerta CNOT para cumplir los requisitos del estado GHZ. En cuanto a las ocurrencias, se ha visto que el estado GHZ tiene una ocurrencia más que el estado de Bell."
   ]
  },
  {
   "cell_type": "markdown",
   "metadata": {},
   "source": [
    "#### Ejercicio 3"
   ]
  },
  {
   "cell_type": "code",
   "execution_count": 13,
   "metadata": {},
   "outputs": [
    {
     "name": "stderr",
     "output_type": "stream",
     "text": [
      "ibmqfactory.load_account:WARNING:2022-02-21 20:03:43,449: Credentials are already in use. The existing account in the session will be replaced.\n"
     ]
    },
    {
     "name": "stdout",
     "output_type": "stream",
     "text": [
      "\n",
      "Corriendo en el simulador ibmq_bogota\n",
      "Primer estado de Bell:\n",
      "\n",
      "        ┌───┐           ░ ┌─┐      \n",
      "   q_0: ┤ H ├──■────────░─┤M├──────\n",
      "        └───┘┌─┴─┐      ░ └╥┘┌─┐   \n",
      "   q_1: ─────┤ X ├──■───░──╫─┤M├───\n",
      "             └───┘┌─┴─┐ ░  ║ └╥┘┌─┐\n",
      "   q_2: ──────────┤ X ├─░──╫──╫─┤M├\n",
      "                  └───┘ ░  ║  ║ └╥┘\n",
      "   c: 3/═══════════════════╬══╬══╬═\n",
      "                           ║  ║  ║ \n",
      "meas: 3/═══════════════════╩══╩══╩═\n",
      "                           0  1  2 \n",
      "{'110 000': 38, '010 000': 29, '011 000': 23, '100 000': 6, '000 000': 486, '001 000': 16, '111 000': 400, '101 000': 26}\n",
      "\n",
      "Corriendo en el simulador ibmq_lima\n",
      "Primer estado de Bell:\n",
      "\n",
      "        ┌───┐           ░ ┌─┐      \n",
      "   q_0: ┤ H ├──■────────░─┤M├──────\n",
      "        └───┘┌─┴─┐      ░ └╥┘┌─┐   \n",
      "   q_1: ─────┤ X ├──■───░──╫─┤M├───\n",
      "             └───┘┌─┴─┐ ░  ║ └╥┘┌─┐\n",
      "   q_2: ──────────┤ X ├─░──╫──╫─┤M├\n",
      "                  └───┘ ░  ║  ║ └╥┘\n",
      "   c: 3/═══════════════════╬══╬══╬═\n",
      "                           ║  ║  ║ \n",
      "meas: 3/═══════════════════╩══╩══╩═\n",
      "                           0  1  2 \n",
      "{'010 000': 3, '100 000': 4, '011 000': 15, '000 000': 508, '110 000': 20, '111 000': 455, '101 000': 11, '001 000': 8}\n",
      "\n",
      "Corriendo en el simulador ibmq_belem\n",
      "Primer estado de Bell:\n",
      "\n",
      "        ┌───┐           ░ ┌─┐      \n",
      "   q_0: ┤ H ├──■────────░─┤M├──────\n",
      "        └───┘┌─┴─┐      ░ └╥┘┌─┐   \n",
      "   q_1: ─────┤ X ├──■───░──╫─┤M├───\n",
      "             └───┘┌─┴─┐ ░  ║ └╥┘┌─┐\n",
      "   q_2: ──────────┤ X ├─░──╫──╫─┤M├\n",
      "                  └───┘ ░  ║  ║ └╥┘\n",
      "   c: 3/═══════════════════╬══╬══╬═\n",
      "                           ║  ║  ║ \n",
      "meas: 3/═══════════════════╩══╩══╩═\n",
      "                           0  1  2 \n",
      "{'010 000': 9, '110 000': 22, '101 000': 22, '111 000': 384, '000 000': 516, '011 000': 49, '100 000': 12, '001 000': 10}\n"
     ]
    }
   ],
   "source": [
    "from qiskit import QuantumRegister, ClassicalRegister, QuantumCircuit, execute, IBMQ, Aer, transpile\n",
    "from qiskit.tools.monitor import job_monitor\n",
    "from qiskit.visualization import plot_histogram\n",
    "from qiskit.providers.aer.noise import NoiseModel\n",
    "\n",
    "provider = IBMQ.load_account()\n",
    "available_simulators = provider.backends()\n",
    "for simulator in available_simulators[3:6]:\n",
    "    backend = provider.get_backend(str(simulator))\n",
    "\n",
    "    noise_model = NoiseModel.from_backend(backend)\n",
    "    coupling_map = backend.configuration().coupling_map\n",
    "    basis_gates = noise_model.basis_gates\n",
    "\n",
    "    print(\"\\nCorriendo en el simulador %s\" % backend)\n",
    "    print(\"Primer estado de Bell:\\n\")\n",
    "    \n",
    "    q = QuantumRegister(3,'q')\n",
    "    c = ClassicalRegister(3,'c')\n",
    "\n",
    "    circuit = QuantumCircuit(q, c)\n",
    "\n",
    "    circuit.h(q[0]) # Hadamard gate \n",
    "    circuit.cx(q[0],q[1]) # CNOT gate\n",
    "    circuit.cx(q[1],q[2]) # CNOT gate\n",
    "    circuit.measure_all() # Qubit Measurment\n",
    "\n",
    "    transp_circ = transpile(circuit, backend)\n",
    "    job = execute(transp_circ, Aer.get_backend('qasm_simulator'), coupling_map=coupling_map, basis_gates=basis_gates, noise_model=noise_model).result()\n",
    "    counts = job.get_counts(circuit)\n",
    "    circuit.draw()\n",
    "\n",
    "    print(circuit)\n",
    "    print(counts)\n"
   ]
  },
  {
   "cell_type": "markdown",
   "metadata": {},
   "source": [
    "Los resultados obtenidos entre los distintos computadores son parecidos a los obtenidos en el ejercicio 2. Estos resultados son bastante parejos y se deben a que usamos o bien el mismo _backend_, o bien distintos _backends_ que tiene caracteristicas similares.\n",
    "\n",
    "El _backend_ que aparentemente ofrece mejores numeros es `ibmq_bogota` ya que tiene unas caracteristicas parecidas al resto pero tiene un volumen cuántico (QV) superior."
   ]
  },
  {
   "cell_type": "markdown",
   "metadata": {},
   "source": [
    "#### Ejercicio 4"
   ]
  },
  {
   "cell_type": "code",
   "execution_count": 1,
   "metadata": {},
   "outputs": [
    {
     "name": "stdout",
     "output_type": "stream",
     "text": [
      "T  : |0|1|2|\n",
      "            \n",
      "q0 : -H-C---\n",
      "        |   \n",
      "q1 : ---X-C-\n",
      "          | \n",
      "q2 : -----X-\n",
      "\n",
      "T  : |0|1|2|\n",
      "Resultados:  Counter({'111': 491, '000': 477, '100': 10, '011': 10, '001': 5, '110': 4, '101': 3})\n"
     ]
    }
   ],
   "source": [
    "import boto3\n",
    "from braket.circuits import Circuit, Noise\n",
    "from braket.aws import AwsDevice\n",
    "\n",
    "def GHZ(n_qubits: int) -> Circuit:\n",
    "    circ = Circuit().h(0)                        \n",
    "\n",
    "    for ii in range(0, n_qubits - 1):\n",
    "        circ.cnot(control = ii, target = ii + 1)  \n",
    "    return circ\n",
    "\n",
    "circuit = GHZ(3)\n",
    "# noise = Noise.BitFlip(probability=0.1)\n",
    "# circuit.apply_gate_noise(noise)\n",
    "\n",
    "device = AwsDevice(\"arn:aws:braket:::device/qpu/ionq/ionQdevice\")\n",
    "s3_folder = (\"amazon-braket-f085dc433a90\", \"apcc2022/markelal/IONQ\")\n",
    "\n",
    "print(circuit)\n",
    "print(\"Resultados: \", device.run(circuit, s3_folder).result().measurement_counts)"
   ]
  },
  {
   "cell_type": "markdown",
   "metadata": {},
   "source": [
    "Tras muchas horas de ejecución, se ha obtenido un resultado bastante parecido al resto de ejercicios con qiskit usando otros _backends_."
   ]
  }
 ],
 "metadata": {
  "interpreter": {
   "hash": "31f2aee4e71d21fbe5cf8b01ff0e069b9275f58929596ceb00d14d90e3e16cd6"
  },
  "kernelspec": {
   "display_name": "Python 3.9.7 64-bit",
   "language": "python",
   "name": "python3"
  },
  "language_info": {
   "codemirror_mode": {
    "name": "ipython",
    "version": 3
   },
   "file_extension": ".py",
   "mimetype": "text/x-python",
   "name": "python",
   "nbconvert_exporter": "python",
   "pygments_lexer": "ipython3",
   "version": "3.9.7"
  },
  "orig_nbformat": 4
 },
 "nbformat": 4,
 "nbformat_minor": 2
}
